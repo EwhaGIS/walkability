{
 "cells": [
  {
   "cell_type": "code",
   "execution_count": 1,
   "id": "2f25af97-affb-45f9-aa6e-d64aa050c092",
   "metadata": {},
   "outputs": [
    {
     "name": "stdout",
     "output_type": "stream",
     "text": [
      "Looking in indexes: https://pypi.org/simple, https://pip.repos.neuron.amazonaws.com\n",
      "Requirement already satisfied: keras_applications in ./anaconda3/envs/tensorflow2_p38/lib/python3.8/site-packages (1.0.8)\n",
      "Requirement already satisfied: h5py in ./anaconda3/envs/tensorflow2_p38/lib/python3.8/site-packages (from keras_applications) (3.4.0)\n",
      "Requirement already satisfied: numpy>=1.9.1 in ./anaconda3/envs/tensorflow2_p38/lib/python3.8/site-packages (from keras_applications) (1.20.3)\n",
      "Looking in indexes: https://pypi.org/simple, https://pip.repos.neuron.amazonaws.com\n",
      "Requirement already satisfied: tensorflow_datasets in ./anaconda3/envs/tensorflow2_p38/lib/python3.8/site-packages (4.5.2)\n",
      "Requirement already satisfied: dill in ./anaconda3/envs/tensorflow2_p38/lib/python3.8/site-packages (from tensorflow_datasets) (0.3.4)\n",
      "Requirement already satisfied: protobuf>=3.12.2 in ./anaconda3/envs/tensorflow2_p38/lib/python3.8/site-packages (from tensorflow_datasets) (3.19.1)\n",
      "Requirement already satisfied: numpy in ./anaconda3/envs/tensorflow2_p38/lib/python3.8/site-packages (from tensorflow_datasets) (1.20.3)\n",
      "Requirement already satisfied: importlib-resources in ./anaconda3/envs/tensorflow2_p38/lib/python3.8/site-packages (from tensorflow_datasets) (5.4.0)\n",
      "Requirement already satisfied: requests>=2.19.0 in ./anaconda3/envs/tensorflow2_p38/lib/python3.8/site-packages (from tensorflow_datasets) (2.26.0)\n",
      "Requirement already satisfied: six in ./anaconda3/envs/tensorflow2_p38/lib/python3.8/site-packages (from tensorflow_datasets) (1.16.0)\n",
      "Requirement already satisfied: tensorflow-metadata in ./anaconda3/envs/tensorflow2_p38/lib/python3.8/site-packages (from tensorflow_datasets) (1.7.0)\n",
      "Requirement already satisfied: tqdm in ./anaconda3/envs/tensorflow2_p38/lib/python3.8/site-packages (from tensorflow_datasets) (4.62.3)\n",
      "Requirement already satisfied: promise in ./anaconda3/envs/tensorflow2_p38/lib/python3.8/site-packages (from tensorflow_datasets) (2.3)\n",
      "Requirement already satisfied: termcolor in ./anaconda3/envs/tensorflow2_p38/lib/python3.8/site-packages (from tensorflow_datasets) (1.1.0)\n",
      "Requirement already satisfied: absl-py in ./anaconda3/envs/tensorflow2_p38/lib/python3.8/site-packages (from tensorflow_datasets) (1.0.0)\n",
      "Requirement already satisfied: urllib3<1.27,>=1.21.1 in ./anaconda3/envs/tensorflow2_p38/lib/python3.8/site-packages (from requests>=2.19.0->tensorflow_datasets) (1.26.7)\n",
      "Requirement already satisfied: certifi>=2017.4.17 in ./anaconda3/envs/tensorflow2_p38/lib/python3.8/site-packages (from requests>=2.19.0->tensorflow_datasets) (2021.10.8)\n",
      "Requirement already satisfied: charset-normalizer~=2.0.0 in ./anaconda3/envs/tensorflow2_p38/lib/python3.8/site-packages (from requests>=2.19.0->tensorflow_datasets) (2.0.7)\n",
      "Requirement already satisfied: idna<4,>=2.5 in ./anaconda3/envs/tensorflow2_p38/lib/python3.8/site-packages (from requests>=2.19.0->tensorflow_datasets) (3.1)\n",
      "Requirement already satisfied: zipp>=3.1.0 in ./anaconda3/envs/tensorflow2_p38/lib/python3.8/site-packages (from importlib-resources->tensorflow_datasets) (3.6.0)\n",
      "Requirement already satisfied: googleapis-common-protos<2,>=1.52.0 in ./anaconda3/envs/tensorflow2_p38/lib/python3.8/site-packages (from tensorflow-metadata->tensorflow_datasets) (1.56.0)\n"
     ]
    }
   ],
   "source": [
    "!pip install keras_applications\n",
    "!pip install tensorflow_datasets"
   ]
  },
  {
   "cell_type": "code",
   "execution_count": 2,
   "id": "57ebc8ce-f7e3-4a76-8e55-a18d41413939",
   "metadata": {
    "colab": {
     "base_uri": "https://localhost:8080/"
    },
    "executionInfo": {
     "elapsed": 7594,
     "status": "ok",
     "timestamp": 1648739120012,
     "user": {
      "displayName": "jiyeon Kim",
      "userId": "02674522773313632904"
     },
     "user_tz": -540
    },
    "id": "57ebc8ce-f7e3-4a76-8e55-a18d41413939",
    "outputId": "c08b5517-74d4-4794-e5df-e60d48d5c58c"
   },
   "outputs": [],
   "source": [
    "import tensorflow as tf\n",
    "import pandas as pd \n",
    "#import tensorflow_addons as tfa\n",
    "from tensorflow_datasets import *\n",
    "from tensorflow.keras.layers import *\n",
    "from tensorflow.keras.models import Model\n",
    "#from tensorflow.keras.applications.inception_resnet_v2 import InceptionResNetV2, preprocess_input\n",
    "#from tensorflow.keras.applications.resnet50 import ResNet50, preprocess_input\n",
    "#from tensorflow.keras.applications.xception import Xception, preprocess_input \n",
    "from tensorflow.keras.applications.vgg16 import VGG16, preprocess_input\n",
    "from tensorflow.keras.preprocessing.image import ImageDataGenerator\n",
    "from tensorflow.keras.experimental import CosineDecayRestarts\n",
    "from tensorflow.keras.regularizers import l1, l2, l1_l2\n",
    "from keras import backend as K\n",
    "\n",
    "# places \n",
    "#from keras_applications.imagenet_utils import _obtain_input_shape\n",
    "from keras.utils.layer_utils import get_source_inputs\n",
    "from keras.utils.data_utils import get_file\n",
    "from keras.utils import layer_utils\n",
    "\n",
    "import time\n",
    "from matplotlib import pyplot as plt, rc\n",
    "import os\n",
    "import numpy as np\n",
    "from tensorflow.keras.callbacks import ModelCheckpoint, EarlyStopping, ReduceLROnPlateau, LearningRateScheduler\n",
    "import shutil\n",
    "import re\n",
    "from glob import glob\n",
    "\n",
    "from sklearn.manifold import TSNE, MDS\n",
    "from sklearn.decomposition import PCA\n",
    "from sklearn.metrics import pairwise_distances\n",
    "from sklearn.cluster import DBSCAN\n",
    "from collections import Counter\n",
    "\n",
    "import networkx as nx\n",
    "from networkx.drawing.nx_agraph import graphviz_layout\n",
    "\n",
    "from PIL import Image\n",
    "import csv\n",
    "from sklearn.cluster import KMeans\n",
    "from scipy.spatial.distance import cdist\n",
    "from sklearn.metrics import euclidean_distances\n",
    "from tensorflow.keras import layers\n",
    "\n",
    "\n",
    "from sklearn.preprocessing import MinMaxScaler as MMS\n",
    "\n",
    "import cv2\n",
    "from PIL import Image\n",
    "from scipy import stats\n",
    "\n",
    "from tensorflow.keras.applications.vgg16 import VGG16, preprocess_input\n",
    "#from tensorflow.keras.applications.xception import Xception, preprocess_input\n",
    "\n",
    "# places365에 필요한 \n",
    "from keras_applications.imagenet_utils import _obtain_input_shape\n",
    "from keras.utils.layer_utils import get_source_inputs\n",
    "from keras.utils.data_utils import get_file\n",
    "from keras.utils import layer_utils\n",
    "import matplotlib.image as img\n",
    "\n",
    "from tensorflow.keras.preprocessing.image import ImageDataGenerator"
   ]
  },
  {
   "cell_type": "code",
   "execution_count": 3,
   "id": "69225264-0130-4b60-a1cb-550d56e66151",
   "metadata": {},
   "outputs": [
    {
     "name": "stdout",
     "output_type": "stream",
     "text": [
      "Sat Apr  9 07:54:25 2022       \n",
      "+-----------------------------------------------------------------------------+\n",
      "| NVIDIA-SMI 510.47.03    Driver Version: 510.47.03    CUDA Version: 11.6     |\n",
      "|-------------------------------+----------------------+----------------------+\n",
      "| GPU  Name        Persistence-M| Bus-Id        Disp.A | Volatile Uncorr. ECC |\n",
      "| Fan  Temp  Perf  Pwr:Usage/Cap|         Memory-Usage | GPU-Util  Compute M. |\n",
      "|                               |                      |               MIG M. |\n",
      "|===============================+======================+======================|\n",
      "|   0  Tesla V100-SXM2...  On   | 00000000:00:1B.0 Off |                    0 |\n",
      "| N/A   48C    P0    38W / 300W |      0MiB / 16384MiB |      0%      Default |\n",
      "|                               |                      |                  N/A |\n",
      "+-------------------------------+----------------------+----------------------+\n",
      "|   1  Tesla V100-SXM2...  On   | 00000000:00:1C.0 Off |                    0 |\n",
      "| N/A   44C    P0    37W / 300W |      0MiB / 16384MiB |      0%      Default |\n",
      "|                               |                      |                  N/A |\n",
      "+-------------------------------+----------------------+----------------------+\n",
      "|   2  Tesla V100-SXM2...  On   | 00000000:00:1D.0 Off |                    0 |\n",
      "| N/A   44C    P0    43W / 300W |      0MiB / 16384MiB |      0%      Default |\n",
      "|                               |                      |                  N/A |\n",
      "+-------------------------------+----------------------+----------------------+\n",
      "|   3  Tesla V100-SXM2...  On   | 00000000:00:1E.0 Off |                    0 |\n",
      "| N/A   48C    P0    44W / 300W |      0MiB / 16384MiB |      0%      Default |\n",
      "|                               |                      |                  N/A |\n",
      "+-------------------------------+----------------------+----------------------+\n",
      "                                                                               \n",
      "+-----------------------------------------------------------------------------+\n",
      "| Processes:                                                                  |\n",
      "|  GPU   GI   CI        PID   Type   Process name                  GPU Memory |\n",
      "|        ID   ID                                                   Usage      |\n",
      "|=============================================================================|\n",
      "|  No running processes found                                                 |\n",
      "+-----------------------------------------------------------------------------+\n"
     ]
    }
   ],
   "source": [
    "!nvidia-smi"
   ]
  },
  {
   "cell_type": "code",
   "execution_count": 4,
   "id": "1ZbANvXBJPn2",
   "metadata": {
    "colab": {
     "base_uri": "https://localhost:8080/"
    },
    "executionInfo": {
     "elapsed": 93647,
     "status": "ok",
     "timestamp": 1648739224578,
     "user": {
      "displayName": "jiyeon Kim",
      "userId": "02674522773313632904"
     },
     "user_tz": -540
    },
    "id": "1ZbANvXBJPn2",
    "outputId": "84aa9d38-a779-460d-881f-1b5394754ae6"
   },
   "outputs": [
    {
     "name": "stdout",
     "output_type": "stream",
     "text": [
      "/home/ubuntu/image_used_crowdSourcing\n"
     ]
    }
   ],
   "source": [
    "cd '/home/ubuntu/image_used_crowdSourcing/'"
   ]
  },
  {
   "cell_type": "markdown",
   "id": "ZOzkGIsEPjO2",
   "metadata": {
    "id": "ZOzkGIsEPjO2"
   },
   "source": [
    "<style>\n",
    "    span { color: #aba; }\n",
    "</style>\n",
    "## <span style=\"color:#cba\"> 이미지 가져오기\n",
    "---"
   ]
  },
  {
   "cell_type": "code",
   "execution_count": 5,
   "id": "9Qs1X81FRq_g",
   "metadata": {
    "executionInfo": {
     "elapsed": 125596,
     "status": "ok",
     "timestamp": 1648739853759,
     "user": {
      "displayName": "jiyeon Kim",
      "userId": "02674522773313632904"
     },
     "user_tz": -540
    },
    "id": "9Qs1X81FRq_g"
   },
   "outputs": [],
   "source": [
    "df=pd.read_csv('/home/ubuntu/pair_df_없는사진_equal제외.csv')\n",
    "df.drop(columns='Unnamed: 0', inplace=True)\n",
    "df.drop_duplicates(inplace=True)"
   ]
  },
  {
   "cell_type": "code",
   "execution_count": 17,
   "id": "YUcByl0LVoGw",
   "metadata": {
    "id": "YUcByl0LVoGw"
   },
   "outputs": [],
   "source": [
    "score_df = pd.DataFrame(data = {'image':list(df['left_image'])+list(df['right_image'])})"
   ]
  },
  {
   "cell_type": "code",
   "execution_count": 6,
   "id": "upa2CCV7Yfqv",
   "metadata": {
    "executionInfo": {
     "elapsed": 519,
     "status": "ok",
     "timestamp": 1648739884313,
     "user": {
      "displayName": "jiyeon Kim",
      "userId": "02674522773313632904"
     },
     "user_tz": -540
    },
    "id": "upa2CCV7Yfqv"
   },
   "outputs": [],
   "source": [
    "image_size= (448, 448)\n",
    "image_size_channel = (224, 224, 3)\n",
    "AUTOTUNE = tf.data.AUTOTUNE\n",
    "\n",
    "def prepro_image(filepath):\n",
    "    image = tf.io.read_file(filepath) # CPU나 GPU 사용할 때\n",
    "    # with open(filepath, \"rb\") as local_file: # <= change here\n",
    "    #   image = local_file.read()\n",
    "    image = tf.image.decode_jpeg(image, channels=3) # 파일에서 읽어온 걸 숫자로 바꿔주는 역할\n",
    "    #image = tf.image.convert_image_dtype(image, tf.float32)\n",
    "    image = tf.image.resize(image, image_size) # 이거 때문인지 166 --> 183.99832 이런 식으로 변하넹?\n",
    "    # normalization은 모델에 들어가있으니까 빼자~\n",
    "    #image = preprocess_input(image) # 여기에서 scaling 해주거나 안 해주거나 그런 거겠네\n",
    "    return image"
   ]
  },
  {
   "cell_type": "code",
   "execution_count": 7,
   "id": "h7rWCBdPjjtd",
   "metadata": {
    "executionInfo": {
     "elapsed": 6154,
     "status": "ok",
     "timestamp": 1648740015507,
     "user": {
      "displayName": "jiyeon Kim",
      "userId": "02674522773313632904"
     },
     "user_tz": -540
    },
    "id": "h7rWCBdPjjtd"
   },
   "outputs": [],
   "source": [
    "left_path = tf.data.Dataset.from_tensor_slices(list(df['left_image']))\n",
    "left = left_path.map(prepro_image, num_parallel_calls=tf.data.experimental.AUTOTUNE)\n",
    "#left = left.map(lambda x: tf.image.resize(x, image_size))\n",
    "# left = left.batch(64)\n",
    "# left_batch = left.cache().prefetch(buffer_size=AUTOTUNE)\n",
    "\n",
    "right_path = tf.data.Dataset.from_tensor_slices(list(df['right_image']))\n",
    "right = right_path.map(prepro_image, num_parallel_calls=tf.data.experimental.AUTOTUNE)\n",
    "#right = right.map(lambda x: tf.image.resize(x, image_size))\n",
    "# right = right.batch(64)\n",
    "# right_batch = right.cache().prefetch(buffer_size=AUTOTUNE)\n",
    "\n",
    "binary_label = tf.data.Dataset.from_tensor_slices(list(df['label']))\n",
    "# binary_label = binary_label.batch(64)\n",
    "# binary_label = binary_label.cache().prefetch(buffer_size=AUTOTUNE)\n",
    "\n",
    "cat = []\n",
    "for i in list(df['label']):\n",
    "  if i==0:\n",
    "    cat.append(np.array([1,0]))\n",
    "  else:\n",
    "    cat.append(np.array([0,1]))\n",
    "\n",
    "cat_label=tf.data.Dataset.from_tensor_slices(np.array(cat))\n",
    "\n",
    "pair_images=tf.data.Dataset.zip((left, right))\n",
    "cat_binary_labels = tf.data.Dataset.zip((cat_label, cat_label, binary_label))\n",
    "dataset = tf.data.Dataset.zip((pair_images, cat_binary_labels)) # 여기까지는 ()\n",
    "\n",
    "\n",
    "# validation 나눠놓기\n",
    "ratio = 0.8\n",
    "train_val_dataset = dataset.take(round(len(df) * ratio)) # 107255개가 있음(0~107254)\n",
    "train_dataset = train_val_dataset.take(round(len(df) * ratio * ratio))\n",
    "val_dataset = train_val_dataset.skip(round(len(df) * ratio * ratio))\n",
    "test_images = dataset.skip(round(len(df) * ratio))\n",
    "test_dataset = dataset.skip(round(len(df) * ratio)) # 107255부터~\n",
    "# test_stack = right.skip(round(len(df) * ratio)).concatenate(left.skip(round(len(df) * ratio)))\n",
    "\n",
    "\n",
    "# shuffle\n",
    "batch_size = 32 # 128이 되면 OOM error 발생함 인프런 질문 답변 참고하기(https://www.inflearn.com/questions/175633)\n",
    "drop_remainder = False\n",
    "\n",
    "train_dataset = train_dataset.shuffle(buffer_size=2000, reshuffle_each_iteration=True)\n",
    "val_dataset = val_dataset.shuffle(buffer_size=2000, reshuffle_each_iteration=True)\n",
    "\n",
    "train_dataset = train_dataset.batch(batch_size, drop_remainder=drop_remainder)\n",
    "train_dataset = train_dataset.prefetch(batch_size) # tpu로 돌릴 때는 얘를 삭제해야함\n",
    "\n",
    "val_dataset = val_dataset.batch(batch_size, drop_remainder=drop_remainder)\n",
    "val_dataset = val_dataset.prefetch(batch_size)\n",
    "\n",
    "test_images = test_images.batch(batch_size, drop_remainder=drop_remainder)\n",
    "# test_score = test_stack.batch(batch_size=4, drop_remainder=drop_remainder)\n",
    "# test_score_dt = tf.data.Dataset.from_tensor_slices(list(score_df['image']))\n",
    "# test_score_prepro = test_score_dt.map(prepro_image)\n",
    "# test_score = test_score_prepro.batch(batch_size=2, drop_remainder=drop_remainder)\n",
    "test_images = test_images.prefetch(32)\n",
    "\n",
    "# test 나눠놓기"
   ]
  },
  {
   "cell_type": "markdown",
   "id": "_AIAXO9yUVZ7",
   "metadata": {
    "id": "_AIAXO9yUVZ7"
   },
   "source": [
    "<style>\n",
    "    span { color: #aba; }\n",
    "</style>\n",
    "## <span style=\"color:#cba\"> VGG_Places365\n",
    "---"
   ]
  },
  {
   "cell_type": "code",
   "execution_count": 8,
   "id": "jBJoTos1UYyw",
   "metadata": {
    "executionInfo": {
     "elapsed": 475,
     "status": "ok",
     "timestamp": 1648740136313,
     "user": {
      "displayName": "jiyeon Kim",
      "userId": "02674522773313632904"
     },
     "user_tz": -540
    },
    "id": "jBJoTos1UYyw"
   },
   "outputs": [],
   "source": [
    "def VGG16_Places365(include_top=True, weights='places',\n",
    "                    input_tensor=None, input_shape=None,\n",
    "                    pooling=None,\n",
    "                    classes=365):\n",
    "    \"\"\"Instantiates the VGG16-places365 architecture.\n",
    "    Optionally loads weights pre-trained\n",
    "    on Places. Note that when using TensorFlow,\n",
    "    for best performance you should set\n",
    "    `image_data_format=\"channels_last\"` in your Keras config\n",
    "    at ~/.keras/keras.json.\n",
    "    The model and the weights are compatible with both\n",
    "    TensorFlow and Theano. The data format\n",
    "    convention used by the model is the one\n",
    "    specified in your Keras config file.\n",
    "    # Arguments\n",
    "        include_top: whether to include the 3 fully-connected\n",
    "            layers at the top of the network.\n",
    "        weights: one of `None` (random initialization),\n",
    "                 'places' (pre-training on Places),\n",
    "                 or the path to the weights file to be loaded.\n",
    "        input_tensor: optional Keras tensor (i.e. output of `layers.Input()`)\n",
    "            to use as image input for the model.\n",
    "        input_shape: optional shape tuple, only to be specified\n",
    "            if `include_top` is False (otherwise the input shape\n",
    "            has to be `(224, 224, 3)` (with `channels_last` data format)\n",
    "            or `(3, 224, 244)` (with `channels_first` data format).\n",
    "            It should have exactly 3 inputs channels,\n",
    "            \n",
    "            and width and height should be no smaller than 48.\n",
    "            E.g. `(200, 200, 3)` would be one valid value.\n",
    "        pooling: Optional pooling mode for feature extraction\n",
    "            when `include_top` is `False`.\n",
    "            - `None` means that the output of the model will be\n",
    "                the 4D tensor output of the\n",
    "                last convolutional layer.\n",
    "            - `avg` means that global average pooling\n",
    "                will be applied to the output of the\n",
    "                last convolutional layer, and thus\n",
    "                the output of the model will be a 2D tensor.\n",
    "            - `max` means that global max pooling will\n",
    "                be applied.\n",
    "        classes: optional number of classes to classify images\n",
    "            into, only to be specified if `include_top` is True, and\n",
    "            if no `weights` argument is specified.\n",
    "    # Returns\n",
    "        A Keras model instance.\n",
    "    # Raises\n",
    "        ValueError: in case of invalid argument for `weights`, or invalid input shape\n",
    "        \n",
    "        \"\"\"\n",
    "    WEIGHTS_PATH = 'https://github.com/GKalliatakis/Keras-VGG16-places365/releases/download/v1.0/vgg16-places365_weights_tf_dim_ordering_tf_kernels.h5'\n",
    "    WEIGHTS_PATH_NO_TOP = 'https://github.com/GKalliatakis/Keras-VGG16-places365/releases/download/v1.0/vgg16-places365_weights_tf_dim_ordering_tf_kernels_notop.h5'\n",
    "\n",
    "    if not (weights in {'places', None} or os.path.exists(weights)):\n",
    "        raise ValueError('The `weights` argument should be either '\n",
    "                         '`None` (random initialization), `places` '\n",
    "                         '(pre-training on Places), '\n",
    "                         'or the path to the weights file to be loaded.')\n",
    "\n",
    "    if weights == 'places' and include_top and classes != 365:\n",
    "        raise ValueError('If using `weights` as places with `include_top`'\n",
    "                         ' as true, `classes` should be 365')\n",
    "\n",
    "\n",
    "    # Determine proper input shape\n",
    "    input_shape = _obtain_input_shape(input_shape,\n",
    "                                      default_size=224,\n",
    "                                      min_size=48,\n",
    "                                      data_format=K.image_data_format(),\n",
    "                                      require_flatten =include_top)\n",
    "\n",
    "    if input_tensor is None:\n",
    "        img_input = Input(shape=input_shape)\n",
    "    else:\n",
    "        if not K.is_keras_tensor(input_tensor):\n",
    "            img_input = Input(tensor=input_tensor, shape=input_shape)\n",
    "        else:\n",
    "            img_input = input_tensor\n",
    "\n",
    "    # Block 1\n",
    "    x = Conv2D(filters=64, kernel_size=3, strides=(1, 1), padding='same',\n",
    "               kernel_regularizer=l2(0.0002),\n",
    "               activation='relu', name='block1_conv1')(img_input)\n",
    "\n",
    "    x = Conv2D(filters=64, kernel_size=3, strides=(1, 1), padding='same',\n",
    "               kernel_regularizer=l2(0.0002),\n",
    "               activation='relu', name='block1_conv2')(x)\n",
    "\n",
    "    x = MaxPooling2D(pool_size=(2, 2), strides=(2, 2), name=\"block1_pool\", padding='valid')(x)\n",
    "\n",
    "    # Block 2\n",
    "    x = Conv2D(filters=128, kernel_size=3, strides=(1, 1), padding='same',\n",
    "               kernel_regularizer=l2(0.0002),\n",
    "               activation='relu', name='block2_conv1')(x)\n",
    "\n",
    "    x = Conv2D(filters=128, kernel_size=3, strides=(1, 1), padding='same',\n",
    "               kernel_regularizer=l2(0.0002),\n",
    "               activation='relu', name='block2_conv2')(x)\n",
    "\n",
    "    x = MaxPooling2D(pool_size=(2, 2), strides=(2, 2), name=\"block2_pool\", padding='valid')(x)\n",
    "\n",
    "    # Block 3\n",
    "    x = Conv2D(filters=256, kernel_size=3, strides=(1, 1), padding='same',\n",
    "               kernel_regularizer=l2(0.0002),\n",
    "               activation='relu', name='block3_conv1')(x)\n",
    "\n",
    "    x = Conv2D(filters=256, kernel_size=3, strides=(1, 1), padding='same',\n",
    "               kernel_regularizer=l2(0.0002),\n",
    "               activation='relu', name='block3_conv2')(x)\n",
    "\n",
    "    x = Conv2D(filters=256, kernel_size=3, strides=(1, 1), padding='same',\n",
    "               kernel_regularizer=l2(0.0002),\n",
    "               activation='relu', name='block3_conv3')(x)\n",
    "\n",
    "    x = MaxPooling2D(pool_size=(2, 2), strides=(2, 2), name=\"block3_pool\", padding='valid')(x)\n",
    "\n",
    "    # Block 4\n",
    "    x = Conv2D(filters=512, kernel_size=3, strides=(1, 1), padding='same',\n",
    "               kernel_regularizer=l2(0.0002),\n",
    "               activation='relu', name='block4_conv1')(x)\n",
    "\n",
    "    x = Conv2D(filters=512, kernel_size=3, strides=(1, 1), padding='same',\n",
    "               kernel_regularizer=l2(0.0002),\n",
    "               activation='relu', name='block4_conv2')(x)\n",
    "\n",
    "    x = Conv2D(filters=512, kernel_size=3, strides=(1, 1), padding='same',\n",
    "               kernel_regularizer=l2(0.0002),\n",
    "               activation='relu', name='block4_conv3')(x)\n",
    "\n",
    "    x = MaxPooling2D(pool_size=(2, 2), strides=(2, 2), name=\"block4_pool\", padding='valid')(x)\n",
    "\n",
    "    # Block 5\n",
    "    x = Conv2D(filters=512, kernel_size=3, strides=(1, 1), padding='same',\n",
    "               kernel_regularizer=l2(0.0002),\n",
    "               activation='relu', name='block5_conv1')(x)\n",
    "\n",
    "    x = Conv2D(filters=512, kernel_size=3, strides=(1, 1), padding='same',\n",
    "               kernel_regularizer=l2(0.0002),\n",
    "               activation='relu', name='block5_conv2')(x)\n",
    "\n",
    "    x = Conv2D(filters=512, kernel_size=3, strides=(1, 1), padding='same',\n",
    "               kernel_regularizer=l2(0.0002),\n",
    "               activation='relu', name='block5_conv3')(x)\n",
    "\n",
    "    x = MaxPooling2D(pool_size=(2, 2), strides=(2, 2), name=\"block5_pool\", padding='valid')(x)\n",
    "\n",
    "    if include_top:\n",
    "        # Classification block\n",
    "        x = Flatten(name='flatten')(x)\n",
    "        x = Dense(4096, activation='relu', name='fc1')(x)\n",
    "        x = Dropout(0.5, name='drop_fc1')(x)\n",
    "\n",
    "        x = Dense(4096, activation='relu', name='fc2')(x)\n",
    "        x = Dropout(0.5, name='drop_fc2')(x)\n",
    "        \n",
    "        x = Dense(365, activation='softmax', name=\"predictions\")(x)\n",
    "\n",
    "    else:\n",
    "        if pooling == 'avg':\n",
    "            x = GlobalAveragePooling2D()(x)\n",
    "        elif pooling == 'max':\n",
    "            x = GlobalMaxPooling2D()(x)\n",
    "\n",
    "    # Ensure that the model takes into account\n",
    "    # any potential predecessors of `input_tensor`.\n",
    "    if input_tensor is not None:\n",
    "        inputs = get_source_inputs(input_tensor)\n",
    "    else:\n",
    "        inputs = img_input\n",
    "\n",
    "    # Create model.\n",
    "    model = Model(inputs, x, name='vgg16-places365')\n",
    "\n",
    "    # load weights\n",
    "    if weights == 'places':\n",
    "        if include_top:\n",
    "            weights_path = get_file('vgg16-places365_weights_tf_dim_ordering_tf_kernels.h5',\n",
    "                                    WEIGHTS_PATH,\n",
    "                                    cache_subdir='models')\n",
    "        else:\n",
    "            weights_path = get_file('vgg16-places365_weights_tf_dim_ordering_tf_kernels_notop.h5',\n",
    "                                    WEIGHTS_PATH_NO_TOP,\n",
    "                                    cache_subdir='models')\n",
    "\n",
    "        model.load_weights(weights_path)\n",
    "\n",
    "        if K.backend() == 'theano':\n",
    "            layer_utils.convert_all_kernels_in_model(model)\n",
    "\n",
    "        if K.image_data_format() == 'channels_first':\n",
    "            if include_top:\n",
    "                maxpool = model.get_layer(name='block5_pool')\n",
    "                shape = maxpool.output_shape[1:]\n",
    "                dense = model.get_layer(name='fc1')\n",
    "                layer_utils.convert_dense_weights_data_format(dense, shape, 'channels_first')\n",
    "\n",
    "            if K.backend() == 'tensorflow':\n",
    "                warnings.warn('You are using the TensorFlow backend, yet you '\n",
    "                              'are using the Theano '\n",
    "                              'image data format convention '\n",
    "                              '(`image_data_format=\"channels_first\"`). '\n",
    "                              'For best performance, set '\n",
    "                              '`image_data_format=\"channels_last\"` in '\n",
    "                              'your Keras config '\n",
    "                              'at ~/.keras/keras.json.')\n",
    "\n",
    "    elif weights is not None:\n",
    "        model.load_weights(weights)\n",
    "\n",
    "    return model\n"
   ]
  },
  {
   "cell_type": "markdown",
   "id": "8679e382-7495-4974-a327-852dbe11ffc7",
   "metadata": {
    "id": "8679e382-7495-4974-a327-852dbe11ffc7"
   },
   "source": [
    "<style>\n",
    "    span { color: #aba; }\n",
    "</style>\n",
    "## <span style=\"color:#cba\"> RSS-CNN architecture\n",
    "---"
   ]
  },
  {
   "cell_type": "code",
   "execution_count": 9,
   "id": "550c4c77-1dc6-4d70-9518-8fe9ef6955da",
   "metadata": {
    "executionInfo": {
     "elapsed": 660,
     "status": "ok",
     "timestamp": 1648741271143,
     "user": {
      "displayName": "jiyeon Kim",
      "userId": "02674522773313632904"
     },
     "user_tz": -540
    },
    "id": "550c4c77-1dc6-4d70-9518-8fe9ef6955da"
   },
   "outputs": [],
   "source": [
    "preprocess_input = tf.keras.applications.vgg16.preprocess_input\n",
    "\n",
    "def global_extraction(): # using ResNet50 network without FC layer. 여기 고침\n",
    "\n",
    "    i = Input(shape=(224, 224, 3))\n",
    "    vgg_model = VGG16_Places365(weights = 'places',\n",
    "                                    include_top = False,\n",
    "                                    input_tensor=i)\n",
    "    \n",
    "    model = tf.keras.Sequential() # sequential 기반의 모델 하나 만들기\n",
    "\n",
    "    for layer in vgg_model.layers[:-1]: # 모델에 vgg_layer 추가하기\n",
    "        model.add(layer)\n",
    "    \n",
    "    model.add(GlobalAveragePooling2D())\n",
    "\n",
    "    for layer in model.layers[:-3]:\n",
    "        if not isinstance(layer, tf.keras.layers.BatchNormalization):\n",
    "            layer.trainable = False\n",
    "  \n",
    "    return model\n",
    "\n",
    "def feature_extraction_network(): # using ResNet50 network without FC layer. 여기 고침\n",
    "\n",
    "    i = Input(shape=(224, 224, 3))\n",
    "    vgg_model = VGG16_Places365(weights = 'places',\n",
    "                                    include_top = False,\n",
    "                                    input_tensor=i)\n",
    "    \n",
    "    model = tf.keras.Sequential() # sequential 기반의 모델 하나 만들기\n",
    "\n",
    "    for layer in vgg_model.layers[:-1]: # 모델에 vgg_layer 추가하기\n",
    "        model.add(layer)\n",
    "    \n",
    "    model.add(GlobalAveragePooling2D())\n",
    "\n",
    "    for layer in model.layers[:-3]:\n",
    "        if not isinstance(layer, tf.keras.layers.BatchNormalization):\n",
    "            layer.trainable = False\n",
    "  \n",
    "    return model\n",
    "\n",
    "def build_model(input_dim, feature_extraction_network, global_extraction):\n",
    "        \n",
    "    data_augmentation = tf.keras.Sequential([\n",
    "      tf.keras.layers.experimental.preprocessing.RandomFlip('horizontal'),\n",
    "      tf.keras.layers.experimental.preprocessing.RandomRotation(0.1)])\n",
    "    \n",
    "    input_left = Input(shape=input_dim, name='input_left')\n",
    "    input_right = Input(shape=input_dim, name='input_right')\n",
    "\n",
    "    # augmentation --> preprocess_input \n",
    "    aug_left = data_augmentation(input_left) # output shape (none, 448, 448, 3)\n",
    "    aug_right = data_augmentation(input_right)\n",
    "\n",
    "    # image resize - global에 대해서만\n",
    "    global_left = Lambda(lambda x: tf.image.resize(x, (224, 224)))(aug_left)\n",
    "    global_right = Lambda(lambda x: tf.image.resize(x, (224, 224)))(aug_right)   \n",
    "\n",
    "    # imge preprocess (Imagenet에서 얻은 RGB channel별 평균값을 빼주기 때문에 patch와의 순서 상관없음)\n",
    "    \n",
    "    pp_glb_left = preprocess_input(global_left)\n",
    "    pp_glb_right = preprocess_input(global_right)\n",
    "\n",
    "    # patch 부분\n",
    "    #feature_extraction_network = feature_extraction_network()\n",
    "\n",
    "    left_feature1 = feature_extraction_network(preprocess_input(aug_left[:, 0:224, 0:224, :]))\n",
    "    left_feature2 = feature_extraction_network(preprocess_input(aug_left[:, 0:224, 224:448, :]))\n",
    "    left_feature3 = feature_extraction_network(preprocess_input(aug_left[:, 224:448, 0:224, :]))\n",
    "    left_feature4 = feature_extraction_network(preprocess_input(aug_left[:, 224:448, 224:448, :]))\n",
    "\n",
    "    right_feature1 = feature_extraction_network(preprocess_input(aug_right[:, 0:224, 0:224, :]))\n",
    "    right_feature2 = feature_extraction_network(preprocess_input(aug_right[:, 0:224, 224:448, :]))\n",
    "    right_feature3 = feature_extraction_network(preprocess_input(aug_right[:, 224:448, 0:224, :]))\n",
    "    right_feature4 = feature_extraction_network(preprocess_input(aug_right[:, 224:448, 224:448, :]))\n",
    "\n",
    "    left_concat = Concatenate(name='left_concat')([left_feature1, left_feature2, left_feature3, left_feature4])\n",
    "    right_concat = Concatenate(name='right_concat')([right_feature1, right_feature2, right_feature3, right_feature4])\n",
    "\n",
    "    concat = Concatenate(name='feature_concat')([left_concat, right_concat])\n",
    "    x1 = Dropout(rate=0.5)(concat)\n",
    "    x1 = Dense(512, activation='relu')(x1)\n",
    "    x1 = Dropout(rate=0.5)(x1)\n",
    "    patches_loss = Dense(2, activation='softmax', name='patches')(x1)\n",
    "\n",
    "\n",
    "    # global 부분\n",
    "    #global_extraction = feature_extraction_network()\n",
    "    left_global = global_extraction(pp_glb_left)\n",
    "    right_global = global_extraction(pp_glb_right)\n",
    "\n",
    "    global_concat = Concatenate()([left_global, right_global])\n",
    "    x2 = Dropout(rate=0.5)(global_concat)\n",
    "    x2 = Dense(256, activation='relu')(x2)\n",
    "    x2 = Dropout(rate=0.5)(x2)\n",
    "    glb_loss = Dense(2, activation='softmax', name='global')(x2)\n",
    "    \n",
    "    # score 부분\n",
    "    left_total_concat = Concatenate()([left_concat, left_global])\n",
    "    right_total_concat = Concatenate()([right_concat, right_global])\n",
    "    \n",
    "    score_model = tf.keras.Sequential([Dropout(rate=0.5), Dense(256, activation='relu'), Dropout(rate=0.5), Dense(1)])\n",
    "    \n",
    "    left_score = score_model(left_total_concat)\n",
    "    right_score = score_model(right_total_concat)\n",
    "\n",
    "    diff = Subtract()([right_score, left_score])\n",
    "\n",
    "    # Pass difference through sigmoid function.\n",
    "    prob = Activation(\"sigmoid\", name='ranking')(diff)\n",
    "\n",
    "    # Build model.\n",
    "    model = Model(inputs = [input_left, input_right], outputs = [patches_loss, glb_loss, prob])\n",
    "    \n",
    "    return model, score_model"
   ]
  },
  {
   "cell_type": "markdown",
   "id": "12603563-bece-43cc-9f80-466f84eba570",
   "metadata": {
    "id": "12603563-bece-43cc-9f80-466f84eba570"
   },
   "source": [
    "<style>\n",
    "    span { color: #aba; }\n",
    "</style>\n",
    "## <span style=\"color:#cba\"> model training\n",
    "---"
   ]
  },
  {
   "cell_type": "code",
   "execution_count": 8,
   "id": "LblYa-PzaT1c",
   "metadata": {
    "executionInfo": {
     "elapsed": 1033,
     "status": "ok",
     "timestamp": 1648741206738,
     "user": {
      "displayName": "jiyeon Kim",
      "userId": "02674522773313632904"
     },
     "user_tz": -540
    },
    "id": "LblYa-PzaT1c"
   },
   "outputs": [],
   "source": [
    "# input_shape = (4, 28, 28, 3)\n",
    "input_dim = (448, 448, 3)\n",
    "#preprocess = preprocess()\n",
    "feature_extraction_network = feature_extraction_network()\n",
    "global_extraction = global_extraction()\n",
    "model, score_model = build_model(input_dim, feature_extraction_network, global_extraction)\n",
    "#model.summary()\n",
    "#plot_model(model)"
   ]
  },
  {
   "cell_type": "code",
   "execution_count": 46,
   "id": "b25f23de-a261-4448-8736-43b4eb194fea",
   "metadata": {
    "collapsed": true,
    "jupyter": {
     "outputs_hidden": true
    },
    "tags": []
   },
   "outputs": [
    {
     "name": "stdout",
     "output_type": "stream",
     "text": [
      "Model: \"model_6\"\n",
      "__________________________________________________________________________________________________\n",
      " Layer (type)                   Output Shape         Param #     Connected to                     \n",
      "==================================================================================================\n",
      " input_left (InputLayer)        [(None, 448, 448, 3  0           []                               \n",
      "                                )]                                                                \n",
      "                                                                                                  \n",
      " input_right (InputLayer)       [(None, 448, 448, 3  0           []                               \n",
      "                                )]                                                                \n",
      "                                                                                                  \n",
      " sequential_34 (Sequential)     (None, 448, 448, 3)  0           ['input_left[0][0]',             \n",
      "                                                                  'input_right[0][0]']            \n",
      "                                                                                                  \n",
      " tf.__operators__.getitem_118 (  (None, 224, 224, 3)  0          ['sequential_34[0][0]']          \n",
      " SlicingOpLambda)                                                                                 \n",
      "                                                                                                  \n",
      " tf.__operators__.getitem_120 (  (None, 224, 224, 3)  0          ['sequential_34[0][0]']          \n",
      " SlicingOpLambda)                                                                                 \n",
      "                                                                                                  \n",
      " tf.__operators__.getitem_122 (  (None, 224, 224, 3)  0          ['sequential_34[0][0]']          \n",
      " SlicingOpLambda)                                                                                 \n",
      "                                                                                                  \n",
      " tf.__operators__.getitem_124 (  (None, 224, 224, 3)  0          ['sequential_34[0][0]']          \n",
      " SlicingOpLambda)                                                                                 \n",
      "                                                                                                  \n",
      " tf.__operators__.getitem_126 (  (None, 224, 224, 3)  0          ['sequential_34[1][0]']          \n",
      " SlicingOpLambda)                                                                                 \n",
      "                                                                                                  \n",
      " tf.__operators__.getitem_128 (  (None, 224, 224, 3)  0          ['sequential_34[1][0]']          \n",
      " SlicingOpLambda)                                                                                 \n",
      "                                                                                                  \n",
      " tf.__operators__.getitem_130 (  (None, 224, 224, 3)  0          ['sequential_34[1][0]']          \n",
      " SlicingOpLambda)                                                                                 \n",
      "                                                                                                  \n",
      " tf.__operators__.getitem_132 (  (None, 224, 224, 3)  0          ['sequential_34[1][0]']          \n",
      " SlicingOpLambda)                                                                                 \n",
      "                                                                                                  \n",
      " tf.__operators__.getitem_119 (  (None, 224, 224, 3)  0          ['tf.__operators__.getitem_118[0]\n",
      " SlicingOpLambda)                                                [0]']                            \n",
      "                                                                                                  \n",
      " tf.__operators__.getitem_121 (  (None, 224, 224, 3)  0          ['tf.__operators__.getitem_120[0]\n",
      " SlicingOpLambda)                                                [0]']                            \n",
      "                                                                                                  \n",
      " tf.__operators__.getitem_123 (  (None, 224, 224, 3)  0          ['tf.__operators__.getitem_122[0]\n",
      " SlicingOpLambda)                                                [0]']                            \n",
      "                                                                                                  \n",
      " tf.__operators__.getitem_125 (  (None, 224, 224, 3)  0          ['tf.__operators__.getitem_124[0]\n",
      " SlicingOpLambda)                                                [0]']                            \n",
      "                                                                                                  \n",
      " tf.__operators__.getitem_127 (  (None, 224, 224, 3)  0          ['tf.__operators__.getitem_126[0]\n",
      " SlicingOpLambda)                                                [0]']                            \n",
      "                                                                                                  \n",
      " tf.__operators__.getitem_129 (  (None, 224, 224, 3)  0          ['tf.__operators__.getitem_128[0]\n",
      " SlicingOpLambda)                                                [0]']                            \n",
      "                                                                                                  \n",
      " tf.__operators__.getitem_131 (  (None, 224, 224, 3)  0          ['tf.__operators__.getitem_130[0]\n",
      " SlicingOpLambda)                                                [0]']                            \n",
      "                                                                                                  \n",
      " tf.__operators__.getitem_133 (  (None, 224, 224, 3)  0          ['tf.__operators__.getitem_132[0]\n",
      " SlicingOpLambda)                                                [0]']                            \n",
      "                                                                                                  \n",
      " lambda_18 (Lambda)             (None, 224, 224, 3)  0           ['sequential_34[0][0]']          \n",
      "                                                                                                  \n",
      " lambda_19 (Lambda)             (None, 224, 224, 3)  0           ['sequential_34[1][0]']          \n",
      "                                                                                                  \n",
      " tf.nn.bias_add_69 (TFOpLambda)  (None, 224, 224, 3)  0          ['tf.__operators__.getitem_119[0]\n",
      "                                                                 [0]']                            \n",
      "                                                                                                  \n",
      " tf.nn.bias_add_70 (TFOpLambda)  (None, 224, 224, 3)  0          ['tf.__operators__.getitem_121[0]\n",
      "                                                                 [0]']                            \n",
      "                                                                                                  \n",
      " tf.nn.bias_add_71 (TFOpLambda)  (None, 224, 224, 3)  0          ['tf.__operators__.getitem_123[0]\n",
      "                                                                 [0]']                            \n",
      "                                                                                                  \n",
      " tf.nn.bias_add_72 (TFOpLambda)  (None, 224, 224, 3)  0          ['tf.__operators__.getitem_125[0]\n",
      "                                                                 [0]']                            \n",
      "                                                                                                  \n",
      " tf.nn.bias_add_73 (TFOpLambda)  (None, 224, 224, 3)  0          ['tf.__operators__.getitem_127[0]\n",
      "                                                                 [0]']                            \n",
      "                                                                                                  \n",
      " tf.nn.bias_add_74 (TFOpLambda)  (None, 224, 224, 3)  0          ['tf.__operators__.getitem_129[0]\n",
      "                                                                 [0]']                            \n",
      "                                                                                                  \n",
      " tf.nn.bias_add_75 (TFOpLambda)  (None, 224, 224, 3)  0          ['tf.__operators__.getitem_131[0]\n",
      "                                                                 [0]']                            \n",
      "                                                                                                  \n",
      " tf.nn.bias_add_76 (TFOpLambda)  (None, 224, 224, 3)  0          ['tf.__operators__.getitem_133[0]\n",
      "                                                                 [0]']                            \n",
      "                                                                                                  \n",
      " tf.__operators__.getitem_116 (  (None, 224, 224, 3)  0          ['lambda_18[0][0]']              \n",
      " SlicingOpLambda)                                                                                 \n",
      "                                                                                                  \n",
      " tf.__operators__.getitem_117 (  (None, 224, 224, 3)  0          ['lambda_19[0][0]']              \n",
      " SlicingOpLambda)                                                                                 \n",
      "                                                                                                  \n",
      " sequential_32 (Sequential)     (None, 512)          14714688    ['tf.nn.bias_add_69[0][0]',      \n",
      "                                                                  'tf.nn.bias_add_70[0][0]',      \n",
      "                                                                  'tf.nn.bias_add_71[0][0]',      \n",
      "                                                                  'tf.nn.bias_add_72[0][0]',      \n",
      "                                                                  'tf.nn.bias_add_73[0][0]',      \n",
      "                                                                  'tf.nn.bias_add_74[0][0]',      \n",
      "                                                                  'tf.nn.bias_add_75[0][0]',      \n",
      "                                                                  'tf.nn.bias_add_76[0][0]']      \n",
      "                                                                                                  \n",
      " tf.nn.bias_add_67 (TFOpLambda)  (None, 224, 224, 3)  0          ['tf.__operators__.getitem_116[0]\n",
      "                                                                 [0]']                            \n",
      "                                                                                                  \n",
      " tf.nn.bias_add_68 (TFOpLambda)  (None, 224, 224, 3)  0          ['tf.__operators__.getitem_117[0]\n",
      "                                                                 [0]']                            \n",
      "                                                                                                  \n",
      " left_concat (Concatenate)      (None, 2048)         0           ['sequential_32[0][0]',          \n",
      "                                                                  'sequential_32[1][0]',          \n",
      "                                                                  'sequential_32[2][0]',          \n",
      "                                                                  'sequential_32[3][0]']          \n",
      "                                                                                                  \n",
      " right_concat (Concatenate)     (None, 2048)         0           ['sequential_32[4][0]',          \n",
      "                                                                  'sequential_32[5][0]',          \n",
      "                                                                  'sequential_32[6][0]',          \n",
      "                                                                  'sequential_32[7][0]']          \n",
      "                                                                                                  \n",
      " sequential_33 (Sequential)     (None, 512)          14714688    ['tf.nn.bias_add_67[0][0]',      \n",
      "                                                                  'tf.nn.bias_add_68[0][0]']      \n",
      "                                                                                                  \n",
      " feature_concat (Concatenate)   (None, 4096)         0           ['left_concat[0][0]',            \n",
      "                                                                  'right_concat[0][0]']           \n",
      "                                                                                                  \n",
      " concatenate_30 (Concatenate)   (None, 1024)         0           ['sequential_33[0][0]',          \n",
      "                                                                  'sequential_33[1][0]']          \n",
      "                                                                                                  \n",
      " dropout_36 (Dropout)           (None, 4096)         0           ['feature_concat[0][0]']         \n",
      "                                                                                                  \n",
      " dropout_38 (Dropout)           (None, 1024)         0           ['concatenate_30[0][0]']         \n",
      "                                                                                                  \n",
      " concatenate_32 (Concatenate)   (None, 2560)         0           ['right_concat[0][0]',           \n",
      "                                                                  'sequential_33[1][0]']          \n",
      "                                                                                                  \n",
      " concatenate_31 (Concatenate)   (None, 2560)         0           ['left_concat[0][0]',            \n",
      "                                                                  'sequential_33[0][0]']          \n",
      "                                                                                                  \n",
      " dense_24 (Dense)               (None, 512)          2097664     ['dropout_36[0][0]']             \n",
      "                                                                                                  \n",
      " dense_25 (Dense)               (None, 256)          262400      ['dropout_38[0][0]']             \n",
      "                                                                                                  \n",
      " sequential_35 (Sequential)     (None, 1)            655873      ['concatenate_31[0][0]',         \n",
      "                                                                  'concatenate_32[0][0]']         \n",
      "                                                                                                  \n",
      " dropout_37 (Dropout)           (None, 512)          0           ['dense_24[0][0]']               \n",
      "                                                                                                  \n",
      " dropout_39 (Dropout)           (None, 256)          0           ['dense_25[0][0]']               \n",
      "                                                                                                  \n",
      " subtract_6 (Subtract)          (None, 1)            0           ['sequential_35[1][0]',          \n",
      "                                                                  'sequential_35[0][0]']          \n",
      "                                                                                                  \n",
      " patches (Dense)                (None, 2)            1026        ['dropout_37[0][0]']             \n",
      "                                                                                                  \n",
      " global (Dense)                 (None, 2)            514         ['dropout_39[0][0]']             \n",
      "                                                                                                  \n",
      " ranking (Activation)           (None, 1)            0           ['subtract_6[0][0]']             \n",
      "                                                                                                  \n",
      "==================================================================================================\n",
      "Total params: 32,446,853\n",
      "Trainable params: 12,456,709\n",
      "Non-trainable params: 19,990,144\n",
      "__________________________________________________________________________________________________\n"
     ]
    }
   ],
   "source": [
    "model.summary()"
   ]
  },
  {
   "cell_type": "code",
   "execution_count": 10,
   "id": "a6BbldY4JmFh",
   "metadata": {
    "executionInfo": {
     "elapsed": 510,
     "status": "ok",
     "timestamp": 1648740697850,
     "user": {
      "displayName": "jiyeon Kim",
      "userId": "02674522773313632904"
     },
     "user_tz": -540
    },
    "id": "a6BbldY4JmFh"
   },
   "outputs": [],
   "source": [
    "make_folder = f'/home/ubuntu/train_0410_patch_aug_global_sep_again0409/'\n",
    "if not os.path.exists(make_folder):\n",
    "  os.makedirs(make_folder) "
   ]
  },
  {
   "cell_type": "code",
   "execution_count": 13,
   "id": "d74a8fc6-ede6-4756-8c74-d0a4bdab4ba4",
   "metadata": {
    "collapsed": true,
    "jupyter": {
     "outputs_hidden": true
    },
    "tags": []
   },
   "outputs": [
    {
     "name": "stdout",
     "output_type": "stream",
     "text": [
      "INFO:tensorflow:Using MirroredStrategy with devices ('/job:localhost/replica:0/task:0/device:GPU:0', '/job:localhost/replica:0/task:0/device:GPU:1', '/job:localhost/replica:0/task:0/device:GPU:2', '/job:localhost/replica:0/task:0/device:GPU:3')\n",
      "Downloading data from https://github.com/GKalliatakis/Keras-VGG16-places365/releases/download/v1.0/vgg16-places365_weights_tf_dim_ordering_tf_kernels_notop.h5\n",
      "58916864/58909656 [==============================] - 3s 0us/step\n",
      "58925056/58909656 [==============================] - 3s 0us/step\n",
      "INFO:tensorflow:Reduce to /job:localhost/replica:0/task:0/device:CPU:0 then broadcast to ('/job:localhost/replica:0/task:0/device:CPU:0',).\n",
      "INFO:tensorflow:Reduce to /job:localhost/replica:0/task:0/device:CPU:0 then broadcast to ('/job:localhost/replica:0/task:0/device:CPU:0',).\n",
      "INFO:tensorflow:Reduce to /job:localhost/replica:0/task:0/device:CPU:0 then broadcast to ('/job:localhost/replica:0/task:0/device:CPU:0',).\n",
      "INFO:tensorflow:Reduce to /job:localhost/replica:0/task:0/device:CPU:0 then broadcast to ('/job:localhost/replica:0/task:0/device:CPU:0',).\n",
      "WARNING:tensorflow:`period` argument is deprecated. Please use `save_freq` to specify the frequency in number of batches seen.\n",
      "Epoch 1/15\n",
      "INFO:tensorflow:batch_all_reduce: 20 all-reduces with algorithm = nccl, num_packs = 1\n",
      "INFO:tensorflow:Reduce to /job:localhost/replica:0/task:0/device:CPU:0 then broadcast to ('/job:localhost/replica:0/task:0/device:CPU:0',).\n",
      "INFO:tensorflow:Reduce to /job:localhost/replica:0/task:0/device:CPU:0 then broadcast to ('/job:localhost/replica:0/task:0/device:CPU:0',).\n",
      "INFO:tensorflow:Reduce to /job:localhost/replica:0/task:0/device:CPU:0 then broadcast to ('/job:localhost/replica:0/task:0/device:CPU:0',).\n",
      "INFO:tensorflow:Reduce to /job:localhost/replica:0/task:0/device:CPU:0 then broadcast to ('/job:localhost/replica:0/task:0/device:CPU:0',).\n",
      "INFO:tensorflow:Reduce to /job:localhost/replica:0/task:0/device:CPU:0 then broadcast to ('/job:localhost/replica:0/task:0/device:CPU:0',).\n",
      "INFO:tensorflow:Reduce to /job:localhost/replica:0/task:0/device:CPU:0 then broadcast to ('/job:localhost/replica:0/task:0/device:CPU:0',).\n",
      "INFO:tensorflow:batch_all_reduce: 20 all-reduces with algorithm = nccl, num_packs = 1\n",
      "2418/2418 [==============================] - ETA: 0s - loss: 2.5165 - patches_loss: 0.6828 - global_loss: 0.6982 - ranking_loss: 0.6657 - patches_accuracy: 0.6280 - global_accuracy: 0.6191 - ranking_accuracy: 0.6496\n",
      "Epoch 00001: saving model to /home/ubuntu/train_0410_patch_aug_global_sep/weights.01-2.140.hdf5\n",
      "2418/2418 [==============================] - 891s 275ms/step - loss: 2.5165 - patches_loss: 0.6828 - global_loss: 0.6982 - ranking_loss: 0.6657 - patches_accuracy: 0.6280 - global_accuracy: 0.6191 - ranking_accuracy: 0.6496 - val_loss: 2.1395 - val_patches_loss: 0.5572 - val_global_loss: 0.5652 - val_ranking_loss: 0.5480 - val_patches_accuracy: 0.7173 - val_global_accuracy: 0.7108 - val_ranking_accuracy: 0.7243\n",
      "Epoch 2/15\n",
      "2418/2418 [==============================] - ETA: 0s - loss: 2.1791 - patches_loss: 0.5670 - global_loss: 0.5878 - ranking_loss: 0.5564 - patches_accuracy: 0.7102 - global_accuracy: 0.6971 - ranking_accuracy: 0.7211\n",
      "Epoch 00002: saving model to /home/ubuntu/train_0410_patch_aug_global_sep/weights.02-2.089.hdf5\n",
      "2418/2418 [==============================] - 651s 268ms/step - loss: 2.1791 - patches_loss: 0.5670 - global_loss: 0.5878 - ranking_loss: 0.5564 - patches_accuracy: 0.7102 - global_accuracy: 0.6971 - ranking_accuracy: 0.7211 - val_loss: 2.0887 - val_patches_loss: 0.5408 - val_global_loss: 0.5481 - val_ranking_loss: 0.5333 - val_patches_accuracy: 0.7340 - val_global_accuracy: 0.7254 - val_ranking_accuracy: 0.7364\n",
      "Epoch 3/15\n",
      "2418/2418 [==============================] - ETA: 0s - loss: 2.1068 - patches_loss: 0.5431 - global_loss: 0.5651 - ranking_loss: 0.5345 - patches_accuracy: 0.7317 - global_accuracy: 0.7148 - ranking_accuracy: 0.7360\n",
      "Epoch 00003: saving model to /home/ubuntu/train_0410_patch_aug_global_sep/weights.03-2.062.hdf5\n",
      "2418/2418 [==============================] - 650s 268ms/step - loss: 2.1068 - patches_loss: 0.5431 - global_loss: 0.5651 - ranking_loss: 0.5345 - patches_accuracy: 0.7317 - global_accuracy: 0.7148 - ranking_accuracy: 0.7360 - val_loss: 2.0619 - val_patches_loss: 0.5328 - val_global_loss: 0.5398 - val_ranking_loss: 0.5278 - val_patches_accuracy: 0.7405 - val_global_accuracy: 0.7316 - val_ranking_accuracy: 0.7423\n",
      "Epoch 4/15\n",
      "2418/2418 [==============================] - ETA: 0s - loss: 2.0618 - patches_loss: 0.5305 - global_loss: 0.5514 - ranking_loss: 0.5214 - patches_accuracy: 0.7396 - global_accuracy: 0.7253 - ranking_accuracy: 0.7447\n",
      "Epoch 00004: saving model to /home/ubuntu/train_0410_patch_aug_global_sep/weights.04-2.044.hdf5\n",
      "2418/2418 [==============================] - 651s 268ms/step - loss: 2.0618 - patches_loss: 0.5305 - global_loss: 0.5514 - ranking_loss: 0.5214 - patches_accuracy: 0.7396 - global_accuracy: 0.7253 - ranking_accuracy: 0.7447 - val_loss: 2.0443 - val_patches_loss: 0.5291 - val_global_loss: 0.5361 - val_ranking_loss: 0.5237 - val_patches_accuracy: 0.7409 - val_global_accuracy: 0.7368 - val_ranking_accuracy: 0.7469\n",
      "Epoch 5/15\n",
      "2418/2418 [==============================] - ETA: 0s - loss: 2.0285 - patches_loss: 0.5216 - global_loss: 0.5396 - ranking_loss: 0.5152 - patches_accuracy: 0.7450 - global_accuracy: 0.7330 - ranking_accuracy: 0.7501\n",
      "Epoch 00005: saving model to /home/ubuntu/train_0410_patch_aug_global_sep/weights.05-2.035.hdf5\n",
      "2418/2418 [==============================] - 650s 268ms/step - loss: 2.0285 - patches_loss: 0.5216 - global_loss: 0.5396 - ranking_loss: 0.5152 - patches_accuracy: 0.7450 - global_accuracy: 0.7330 - ranking_accuracy: 0.7501 - val_loss: 2.0346 - val_patches_loss: 0.5275 - val_global_loss: 0.5360 - val_ranking_loss: 0.5218 - val_patches_accuracy: 0.7431 - val_global_accuracy: 0.7363 - val_ranking_accuracy: 0.7462\n",
      "Epoch 6/15\n",
      "2418/2418 [==============================] - ETA: 0s - loss: 2.0009 - patches_loss: 0.5151 - global_loss: 0.5314 - ranking_loss: 0.5077 - patches_accuracy: 0.7493 - global_accuracy: 0.7388 - ranking_accuracy: 0.7545\n",
      "Epoch 00006: saving model to /home/ubuntu/train_0410_patch_aug_global_sep/weights.06-2.010.hdf5\n",
      "2418/2418 [==============================] - 650s 268ms/step - loss: 2.0009 - patches_loss: 0.5151 - global_loss: 0.5314 - ranking_loss: 0.5077 - patches_accuracy: 0.7493 - global_accuracy: 0.7388 - ranking_accuracy: 0.7545 - val_loss: 2.0103 - val_patches_loss: 0.5220 - val_global_loss: 0.5275 - val_ranking_loss: 0.5164 - val_patches_accuracy: 0.7451 - val_global_accuracy: 0.7404 - val_ranking_accuracy: 0.7495\n",
      "Epoch 7/15\n",
      "2418/2418 [==============================] - ETA: 0s - loss: 1.9742 - patches_loss: 0.5075 - global_loss: 0.5242 - ranking_loss: 0.4998 - patches_accuracy: 0.7532 - global_accuracy: 0.7436 - ranking_accuracy: 0.7583\n",
      "Epoch 00007: saving model to /home/ubuntu/train_0410_patch_aug_global_sep/weights.07-2.001.hdf5\n",
      "2418/2418 [==============================] - 650s 268ms/step - loss: 1.9742 - patches_loss: 0.5075 - global_loss: 0.5242 - ranking_loss: 0.4998 - patches_accuracy: 0.7532 - global_accuracy: 0.7436 - ranking_accuracy: 0.7583 - val_loss: 2.0013 - val_patches_loss: 0.5199 - val_global_loss: 0.5260 - val_ranking_loss: 0.5146 - val_patches_accuracy: 0.7463 - val_global_accuracy: 0.7434 - val_ranking_accuracy: 0.7505\n",
      "Epoch 8/15\n",
      "2418/2418 [==============================] - ETA: 0s - loss: 1.9581 - patches_loss: 0.5026 - global_loss: 0.5203 - ranking_loss: 0.4960 - patches_accuracy: 0.7561 - global_accuracy: 0.7465 - ranking_accuracy: 0.7629\n",
      "Epoch 00008: saving model to /home/ubuntu/train_0410_patch_aug_global_sep/weights.08-1.999.hdf5\n",
      "2418/2418 [==============================] - 652s 268ms/step - loss: 1.9581 - patches_loss: 0.5026 - global_loss: 0.5203 - ranking_loss: 0.4960 - patches_accuracy: 0.7561 - global_accuracy: 0.7465 - ranking_accuracy: 0.7629 - val_loss: 1.9988 - val_patches_loss: 0.5210 - val_global_loss: 0.5247 - val_ranking_loss: 0.5154 - val_patches_accuracy: 0.7467 - val_global_accuracy: 0.7433 - val_ranking_accuracy: 0.7509\n",
      "Epoch 9/15\n",
      "2418/2418 [==============================] - ETA: 0s - loss: 1.9418 - patches_loss: 0.4997 - global_loss: 0.5151 - ranking_loss: 0.4907 - patches_accuracy: 0.7590 - global_accuracy: 0.7496 - ranking_accuracy: 0.7648\n",
      "Epoch 00009: saving model to /home/ubuntu/train_0410_patch_aug_global_sep/weights.09-1.987.hdf5\n",
      "2418/2418 [==============================] - 652s 269ms/step - loss: 1.9418 - patches_loss: 0.4997 - global_loss: 0.5151 - ranking_loss: 0.4907 - patches_accuracy: 0.7590 - global_accuracy: 0.7496 - ranking_accuracy: 0.7648 - val_loss: 1.9872 - val_patches_loss: 0.5184 - val_global_loss: 0.5218 - val_ranking_loss: 0.5119 - val_patches_accuracy: 0.7454 - val_global_accuracy: 0.7454 - val_ranking_accuracy: 0.7528\n",
      "Epoch 10/15\n",
      "2418/2418 [==============================] - ETA: 0s - loss: 1.9265 - patches_loss: 0.4968 - global_loss: 0.5094 - ranking_loss: 0.4863 - patches_accuracy: 0.7613 - global_accuracy: 0.7518 - ranking_accuracy: 0.7674\n",
      "Epoch 00010: saving model to /home/ubuntu/train_0410_patch_aug_global_sep/weights.10-1.988.hdf5\n",
      "2418/2418 [==============================] - 651s 268ms/step - loss: 1.9265 - patches_loss: 0.4968 - global_loss: 0.5094 - ranking_loss: 0.4863 - patches_accuracy: 0.7613 - global_accuracy: 0.7518 - ranking_accuracy: 0.7674 - val_loss: 1.9875 - val_patches_loss: 0.5186 - val_global_loss: 0.5224 - val_ranking_loss: 0.5136 - val_patches_accuracy: 0.7475 - val_global_accuracy: 0.7461 - val_ranking_accuracy: 0.7533\n",
      "Epoch 11/15\n",
      "2418/2418 [==============================] - ETA: 0s - loss: 1.9099 - patches_loss: 0.4925 - global_loss: 0.5037 - ranking_loss: 0.4817 - patches_accuracy: 0.7624 - global_accuracy: 0.7563 - ranking_accuracy: 0.7695\n",
      "Epoch 00011: saving model to /home/ubuntu/train_0410_patch_aug_global_sep/weights.11-1.982.hdf5\n",
      "2418/2418 [==============================] - 652s 269ms/step - loss: 1.9099 - patches_loss: 0.4925 - global_loss: 0.5037 - ranking_loss: 0.4817 - patches_accuracy: 0.7624 - global_accuracy: 0.7563 - ranking_accuracy: 0.7695 - val_loss: 1.9815 - val_patches_loss: 0.5170 - val_global_loss: 0.5216 - val_ranking_loss: 0.5118 - val_patches_accuracy: 0.7475 - val_global_accuracy: 0.7465 - val_ranking_accuracy: 0.7548\n",
      "Epoch 12/15\n",
      "2418/2418 [==============================] - ETA: 0s - loss: 1.8982 - patches_loss: 0.4890 - global_loss: 0.4997 - ranking_loss: 0.4792 - patches_accuracy: 0.7657 - global_accuracy: 0.7581 - ranking_accuracy: 0.7713\n",
      "Epoch 00012: saving model to /home/ubuntu/train_0410_patch_aug_global_sep/weights.12-1.973.hdf5\n",
      "2418/2418 [==============================] - 650s 268ms/step - loss: 1.8982 - patches_loss: 0.4890 - global_loss: 0.4997 - ranking_loss: 0.4792 - patches_accuracy: 0.7657 - global_accuracy: 0.7581 - ranking_accuracy: 0.7713 - val_loss: 1.9730 - val_patches_loss: 0.5140 - val_global_loss: 0.5199 - val_ranking_loss: 0.5094 - val_patches_accuracy: 0.7479 - val_global_accuracy: 0.7463 - val_ranking_accuracy: 0.7540\n",
      "Epoch 13/15\n",
      "2418/2418 [==============================] - ETA: 0s - loss: 1.8817 - patches_loss: 0.4857 - global_loss: 0.4936 - ranking_loss: 0.4734 - patches_accuracy: 0.7680 - global_accuracy: 0.7610 - ranking_accuracy: 0.7759\n",
      "Epoch 00013: saving model to /home/ubuntu/train_0410_patch_aug_global_sep/weights.13-1.974.hdf5\n",
      "2418/2418 [==============================] - 652s 269ms/step - loss: 1.8817 - patches_loss: 0.4857 - global_loss: 0.4936 - ranking_loss: 0.4734 - patches_accuracy: 0.7680 - global_accuracy: 0.7610 - ranking_accuracy: 0.7759 - val_loss: 1.9738 - val_patches_loss: 0.5150 - val_global_loss: 0.5192 - val_ranking_loss: 0.5114 - val_patches_accuracy: 0.7494 - val_global_accuracy: 0.7494 - val_ranking_accuracy: 0.7557\n",
      "Epoch 14/15\n",
      "2418/2418 [==============================] - ETA: 0s - loss: 1.8732 - patches_loss: 0.4831 - global_loss: 0.4909 - ranking_loss: 0.4715 - patches_accuracy: 0.7693 - global_accuracy: 0.7630 - ranking_accuracy: 0.7762\n",
      "Epoch 00014: saving model to /home/ubuntu/train_0410_patch_aug_global_sep/weights.14-1.975.hdf5\n",
      "2418/2418 [==============================] - 650s 268ms/step - loss: 1.8732 - patches_loss: 0.4831 - global_loss: 0.4909 - ranking_loss: 0.4715 - patches_accuracy: 0.7693 - global_accuracy: 0.7630 - ranking_accuracy: 0.7762 - val_loss: 1.9750 - val_patches_loss: 0.5161 - val_global_loss: 0.5212 - val_ranking_loss: 0.5107 - val_patches_accuracy: 0.7512 - val_global_accuracy: 0.7473 - val_ranking_accuracy: 0.7562\n",
      "Epoch 15/15\n",
      "2418/2418 [==============================] - ETA: 0s - loss: 1.8620 - patches_loss: 0.4800 - global_loss: 0.4876 - ranking_loss: 0.4679 - patches_accuracy: 0.7716 - global_accuracy: 0.7658 - ranking_accuracy: 0.7786\n",
      "Epoch 00015: saving model to /home/ubuntu/train_0410_patch_aug_global_sep/weights.15-1.968.hdf5\n",
      "2418/2418 [==============================] - 650s 268ms/step - loss: 1.8620 - patches_loss: 0.4800 - global_loss: 0.4876 - ranking_loss: 0.4679 - patches_accuracy: 0.7716 - global_accuracy: 0.7658 - ranking_accuracy: 0.7786 - val_loss: 1.9681 - val_patches_loss: 0.5138 - val_global_loss: 0.5194 - val_ranking_loss: 0.5089 - val_patches_accuracy: 0.7504 - val_global_accuracy: 0.7481 - val_ranking_accuracy: 0.7560\n"
     ]
    }
   ],
   "source": [
    "mirrored_strategy = tf.distribute.MirroredStrategy()\n",
    "with mirrored_strategy.scope():\n",
    "    # with strategy.scope():\n",
    "    input_dim = (448, 448, 3)\n",
    "    feature_extraction_network = feature_extraction_network()\n",
    "    global_extraction = global_extraction()\n",
    "    model, score_model = build_model(input_dim, feature_extraction_network, global_extraction)\n",
    "\n",
    "    model.compile(\n",
    "    optimizer = tf.keras.optimizers.Adam(0.00001), \n",
    "    loss = [\"categorical_crossentropy\", \"categorical_crossentropy\", 'binary_crossentropy'],\n",
    "    metrics='accuracy'\n",
    "    )\n",
    "    mcp_cb = ModelCheckpoint(filepath=f'{make_folder}/'+'weights.{epoch:02d}-{val_loss:.3f}.hdf5', monitor='val_loss',\n",
    "                        save_best_only=False, save_weights_only=True, mode='min', period=1, verbose=1)\n",
    "    #rlr_cb = ReduceLROnPlateau(monitor='val_loss', factor=5, patience=2, mode='min', verbose=1)\n",
    "    # ely_cb = EarlyStopping(monitor='val_loss', patience=3, mode='min', verbose=1)\n",
    "    #model.fit(x=[np.array([left]), np.array([right])], y=[np.array([np.array([0, 1])]), np.array([1])], epochs=1, validation_split=0.0, batch_size=None)\n",
    "    history = model.fit(train_dataset, \n",
    "          epochs=15, \n",
    "          validation_data=val_dataset,\n",
    "          callbacks=[mcp_cb])\n",
    "          # validation_split은 dataset은 사용하지 못한다\n",
    "\n",
    "    #model.fit(x=[np.array([left]), np.array([right])], y=[np.array([0, 1]), np.array([1])], epochs=10, validation_split=0.0, batch_size=None)\n",
    "    #model.fit(x=pair_batch, y=[cat_label, binary_label], epochs=10, validation_split=0.0, batch_size=None)"
   ]
  },
  {
   "cell_type": "code",
   "execution_count": 11,
   "id": "xwBCU2Ypaglq",
   "metadata": {
    "colab": {
     "base_uri": "https://localhost:8080/",
     "height": 471
    },
    "executionInfo": {
     "elapsed": 2072710,
     "status": "error",
     "timestamp": 1648743348506,
     "user": {
      "displayName": "jiyeon Kim",
      "userId": "02674522773313632904"
     },
     "user_tz": -540
    },
    "id": "xwBCU2Ypaglq",
    "outputId": "e81a7354-5581-4dd8-837b-b8bf75a0c772"
   },
   "outputs": [
    {
     "name": "stdout",
     "output_type": "stream",
     "text": [
      "INFO:tensorflow:Using MirroredStrategy with devices ('/job:localhost/replica:0/task:0/device:GPU:0', '/job:localhost/replica:0/task:0/device:GPU:1', '/job:localhost/replica:0/task:0/device:GPU:2', '/job:localhost/replica:0/task:0/device:GPU:3')\n",
      "INFO:tensorflow:Reduce to /job:localhost/replica:0/task:0/device:CPU:0 then broadcast to ('/job:localhost/replica:0/task:0/device:CPU:0',).\n",
      "INFO:tensorflow:Reduce to /job:localhost/replica:0/task:0/device:CPU:0 then broadcast to ('/job:localhost/replica:0/task:0/device:CPU:0',).\n",
      "INFO:tensorflow:Reduce to /job:localhost/replica:0/task:0/device:CPU:0 then broadcast to ('/job:localhost/replica:0/task:0/device:CPU:0',).\n",
      "INFO:tensorflow:Reduce to /job:localhost/replica:0/task:0/device:CPU:0 then broadcast to ('/job:localhost/replica:0/task:0/device:CPU:0',).\n",
      "WARNING:tensorflow:`period` argument is deprecated. Please use `save_freq` to specify the frequency in number of batches seen.\n",
      "Epoch 1/5\n",
      "INFO:tensorflow:batch_all_reduce: 20 all-reduces with algorithm = nccl, num_packs = 1\n",
      "INFO:tensorflow:Reduce to /job:localhost/replica:0/task:0/device:CPU:0 then broadcast to ('/job:localhost/replica:0/task:0/device:CPU:0',).\n",
      "INFO:tensorflow:Reduce to /job:localhost/replica:0/task:0/device:CPU:0 then broadcast to ('/job:localhost/replica:0/task:0/device:CPU:0',).\n",
      "INFO:tensorflow:Reduce to /job:localhost/replica:0/task:0/device:CPU:0 then broadcast to ('/job:localhost/replica:0/task:0/device:CPU:0',).\n",
      "INFO:tensorflow:Reduce to /job:localhost/replica:0/task:0/device:CPU:0 then broadcast to ('/job:localhost/replica:0/task:0/device:CPU:0',).\n",
      "INFO:tensorflow:Reduce to /job:localhost/replica:0/task:0/device:CPU:0 then broadcast to ('/job:localhost/replica:0/task:0/device:CPU:0',).\n",
      "INFO:tensorflow:Reduce to /job:localhost/replica:0/task:0/device:CPU:0 then broadcast to ('/job:localhost/replica:0/task:0/device:CPU:0',).\n",
      "INFO:tensorflow:batch_all_reduce: 20 all-reduces with algorithm = nccl, num_packs = 1\n",
      "2418/2418 [==============================] - ETA: 0s - loss: 1.9285 - patches_loss: 0.4987 - global_loss: 0.5095 - ranking_loss: 0.4868 - patches_accuracy: 0.7590 - global_accuracy: 0.7531 - ranking_accuracy: 0.7673\n",
      "Epoch 00001: saving model to /home/ubuntu/train_0410_patch_aug_global_sep_again0409/weights.01-1.984.hdf5\n",
      "2418/2418 [==============================] - 708s 277ms/step - loss: 1.9285 - patches_loss: 0.4987 - global_loss: 0.5095 - ranking_loss: 0.4868 - patches_accuracy: 0.7590 - global_accuracy: 0.7531 - ranking_accuracy: 0.7673 - val_loss: 1.9836 - val_patches_loss: 0.5172 - val_global_loss: 0.5224 - val_ranking_loss: 0.5115 - val_patches_accuracy: 0.7472 - val_global_accuracy: 0.7433 - val_ranking_accuracy: 0.7513\n",
      "Epoch 2/5\n",
      "2418/2418 [==============================] - ETA: 0s - loss: 1.9166 - patches_loss: 0.4942 - global_loss: 0.5065 - ranking_loss: 0.4843 - patches_accuracy: 0.7628 - global_accuracy: 0.7545 - ranking_accuracy: 0.7689\n",
      "Epoch 00002: saving model to /home/ubuntu/train_0410_patch_aug_global_sep_again0409/weights.02-1.985.hdf5\n",
      "2418/2418 [==============================] - 657s 271ms/step - loss: 1.9166 - patches_loss: 0.4942 - global_loss: 0.5065 - ranking_loss: 0.4843 - patches_accuracy: 0.7628 - global_accuracy: 0.7545 - ranking_accuracy: 0.7689 - val_loss: 1.9850 - val_patches_loss: 0.5177 - val_global_loss: 0.5232 - val_ranking_loss: 0.5133 - val_patches_accuracy: 0.7450 - val_global_accuracy: 0.7438 - val_ranking_accuracy: 0.7506\n",
      "Epoch 3/5\n",
      "2418/2418 [==============================] - ETA: 0s - loss: 1.8998 - patches_loss: 0.4898 - global_loss: 0.5003 - ranking_loss: 0.4797 - patches_accuracy: 0.7664 - global_accuracy: 0.7586 - ranking_accuracy: 0.7727\n",
      "Epoch 00003: saving model to /home/ubuntu/train_0410_patch_aug_global_sep_again0409/weights.03-1.982.hdf5\n",
      "2418/2418 [==============================] - 655s 270ms/step - loss: 1.8998 - patches_loss: 0.4898 - global_loss: 0.5003 - ranking_loss: 0.4797 - patches_accuracy: 0.7664 - global_accuracy: 0.7586 - ranking_accuracy: 0.7727 - val_loss: 1.9816 - val_patches_loss: 0.5169 - val_global_loss: 0.5229 - val_ranking_loss: 0.5126 - val_patches_accuracy: 0.7472 - val_global_accuracy: 0.7432 - val_ranking_accuracy: 0.7503\n",
      "Epoch 4/5\n",
      "2418/2418 [==============================] - ETA: 0s - loss: 1.8874 - patches_loss: 0.4864 - global_loss: 0.4968 - ranking_loss: 0.4756 - patches_accuracy: 0.7669 - global_accuracy: 0.7593 - ranking_accuracy: 0.7731\n",
      "Epoch 00004: saving model to /home/ubuntu/train_0410_patch_aug_global_sep_again0409/weights.04-1.974.hdf5\n",
      "2418/2418 [==============================] - 657s 271ms/step - loss: 1.8874 - patches_loss: 0.4864 - global_loss: 0.4968 - ranking_loss: 0.4756 - patches_accuracy: 0.7669 - global_accuracy: 0.7593 - ranking_accuracy: 0.7731 - val_loss: 1.9743 - val_patches_loss: 0.5137 - val_global_loss: 0.5212 - val_ranking_loss: 0.5115 - val_patches_accuracy: 0.7496 - val_global_accuracy: 0.7449 - val_ranking_accuracy: 0.7539\n",
      "Epoch 5/5\n",
      "2418/2418 [==============================] - ETA: 0s - loss: 1.8766 - patches_loss: 0.4842 - global_loss: 0.4931 - ranking_loss: 0.4719 - patches_accuracy: 0.7698 - global_accuracy: 0.7632 - ranking_accuracy: 0.7757\n",
      "Epoch 00005: saving model to /home/ubuntu/train_0410_patch_aug_global_sep_again0409/weights.05-1.970.hdf5\n",
      "2418/2418 [==============================] - 657s 271ms/step - loss: 1.8766 - patches_loss: 0.4842 - global_loss: 0.4931 - ranking_loss: 0.4719 - patches_accuracy: 0.7698 - global_accuracy: 0.7632 - ranking_accuracy: 0.7757 - val_loss: 1.9703 - val_patches_loss: 0.5149 - val_global_loss: 0.5181 - val_ranking_loss: 0.5104 - val_patches_accuracy: 0.7507 - val_global_accuracy: 0.7463 - val_ranking_accuracy: 0.7542\n"
     ]
    }
   ],
   "source": [
    "mirrored_strategy = tf.distribute.MirroredStrategy()\n",
    "with mirrored_strategy.scope():\n",
    "    # with strategy.scope():\n",
    "    input_dim = (448, 448, 3)\n",
    "    feature_extraction_network = feature_extraction_network()\n",
    "    global_extraction = global_extraction()\n",
    "    model, score_model = build_model(input_dim, feature_extraction_network, global_extraction)\n",
    "    \n",
    "    model.load_weights('/home/ubuntu/weights.09-1.990.hdf5') \n",
    "\n",
    "    model.compile(\n",
    "    optimizer = tf.keras.optimizers.Adam(0.00001), \n",
    "    loss = [\"categorical_crossentropy\", \"categorical_crossentropy\", 'binary_crossentropy'],\n",
    "    metrics='accuracy'\n",
    "    )\n",
    "    mcp_cb = ModelCheckpoint(filepath=f'{make_folder}/'+'weights.{epoch:02d}-{val_loss:.3f}.hdf5', monitor='val_loss',\n",
    "                        save_best_only=False, save_weights_only=True, mode='min', period=1, verbose=1)\n",
    "    #rlr_cb = ReduceLROnPlateau(monitor='val_loss', factor=5, patience=2, mode='min', verbose=1)\n",
    "    # ely_cb = EarlyStopping(monitor='val_loss', patience=3, mode='min', verbose=1)\n",
    "    #model.fit(x=[np.array([left]), np.array([right])], y=[np.array([np.array([0, 1])]), np.array([1])], epochs=1, validation_split=0.0, batch_size=None)\n",
    "    history = model.fit(train_dataset, \n",
    "          epochs=5, \n",
    "          validation_data=val_dataset,\n",
    "          callbacks=[mcp_cb])\n",
    "          # validation_split은 dataset은 사용하지 못한다\n",
    "\n",
    "    #model.fit(x=[np.array([left]), np.array([right])], y=[np.array([0, 1]), np.array([1])], epochs=10, validation_split=0.0, batch_size=None)\n",
    "    #model.fit(x=pair_batch, y=[cat_label, binary_label], epochs=10, validation_split=0.0, batch_size=None)"
   ]
  },
  {
   "cell_type": "code",
   "execution_count": null,
   "id": "2e4919bc-655e-4cbf-b2df-bcaedb67325d",
   "metadata": {},
   "outputs": [
    {
     "name": "stdout",
     "output_type": "stream",
     "text": [
      "INFO:tensorflow:Using MirroredStrategy with devices ('/job:localhost/replica:0/task:0/device:GPU:0', '/job:localhost/replica:0/task:0/device:GPU:1', '/job:localhost/replica:0/task:0/device:GPU:2', '/job:localhost/replica:0/task:0/device:GPU:3')\n",
      "INFO:tensorflow:Reduce to /job:localhost/replica:0/task:0/device:CPU:0 then broadcast to ('/job:localhost/replica:0/task:0/device:CPU:0',).\n",
      "INFO:tensorflow:Reduce to /job:localhost/replica:0/task:0/device:CPU:0 then broadcast to ('/job:localhost/replica:0/task:0/device:CPU:0',).\n",
      "INFO:tensorflow:Reduce to /job:localhost/replica:0/task:0/device:CPU:0 then broadcast to ('/job:localhost/replica:0/task:0/device:CPU:0',).\n",
      "INFO:tensorflow:Reduce to /job:localhost/replica:0/task:0/device:CPU:0 then broadcast to ('/job:localhost/replica:0/task:0/device:CPU:0',).\n",
      "WARNING:tensorflow:`period` argument is deprecated. Please use `save_freq` to specify the frequency in number of batches seen.\n",
      "Epoch 1/7\n",
      "INFO:tensorflow:batch_all_reduce: 14 all-reduces with algorithm = nccl, num_packs = 1\n",
      "INFO:tensorflow:Reduce to /job:localhost/replica:0/task:0/device:CPU:0 then broadcast to ('/job:localhost/replica:0/task:0/device:CPU:0',).\n",
      "INFO:tensorflow:Reduce to /job:localhost/replica:0/task:0/device:CPU:0 then broadcast to ('/job:localhost/replica:0/task:0/device:CPU:0',).\n",
      "INFO:tensorflow:Reduce to /job:localhost/replica:0/task:0/device:CPU:0 then broadcast to ('/job:localhost/replica:0/task:0/device:CPU:0',).\n",
      "INFO:tensorflow:Reduce to /job:localhost/replica:0/task:0/device:CPU:0 then broadcast to ('/job:localhost/replica:0/task:0/device:CPU:0',).\n",
      "INFO:tensorflow:Reduce to /job:localhost/replica:0/task:0/device:CPU:0 then broadcast to ('/job:localhost/replica:0/task:0/device:CPU:0',).\n",
      "INFO:tensorflow:Reduce to /job:localhost/replica:0/task:0/device:CPU:0 then broadcast to ('/job:localhost/replica:0/task:0/device:CPU:0',).\n",
      "INFO:tensorflow:batch_all_reduce: 14 all-reduces with algorithm = nccl, num_packs = 1\n",
      "2418/2418 [==============================] - ETA: 0s - loss: 1.3180 - feature_loss: 0.5493 - ranking_loss: 0.5556 - feature_accuracy: 0.7226 - ranking_accuracy: 0.7207"
     ]
    }
   ],
   "source": [
    "mirrored_strategy = tf.distribute.MirroredStrategy()\n",
    "with mirrored_strategy.scope():\n",
    "# with strategy.scope():\n",
    "  input_dim = image_size_channel\n",
    "  feature_extraction_network = feature_extraction_network()\n",
    "  model, score_model = build_model(input_dim, feature_extraction_network)\n",
    "    \n",
    "  model.load_weights('/home/ubuntu/train_0401_KIN/weights.10-1.314.hdf5') \n",
    "\n",
    "  model.compile(\n",
    "    optimizer = tf.keras.optimizers.Adam(0.00005), \n",
    "    loss = [\"categorical_crossentropy\", 'binary_crossentropy'],\n",
    "    metrics='accuracy'\n",
    "    )\n",
    "  mcp_cb = ModelCheckpoint(filepath=f'{make_folder}/'+'weights.{epoch:02d}-{val_loss:.3f}.hdf5', monitor='val_loss',\n",
    "                        save_best_only=False, save_weights_only=True, mode='min', period=1, verbose=1)\n",
    "  #rlr_cb = ReduceLROnPlateau(monitor='val_loss', factor=5, patience=2, mode='min', verbose=1)\n",
    "  # ely_cb = EarlyStopping(monitor='val_loss', patience=3, mode='min', verbose=1)\n",
    "  #model.fit(x=[np.array([left]), np.array([right])], y=[np.array([np.array([0, 1])]), np.array([1])], epochs=1, validation_split=0.0, batch_size=None)\n",
    "  history = model.fit(\n",
    "          train_dataset, \n",
    "          epochs=7, \n",
    "          validation_data=val_dataset,\n",
    "          callbacks=[mcp_cb])\n",
    "          # validation_split은 dataset은 사용하지 못한다\n",
    "\n",
    "  #model.fit(x=[np.array([left]), np.array([right])], y=[np.array([0, 1]), np.array([1])], epochs=10, validation_split=0.0, batch_size=None)\n",
    "  #model.fit(x=pair_batch, y=[cat_label, binary_label], epochs=10, validation_split=0.0, batch_size=None)"
   ]
  },
  {
   "cell_type": "code",
   "execution_count": 21,
   "id": "OdMYGe_3TT_5",
   "metadata": {
    "colab": {
     "base_uri": "https://localhost:8080/",
     "height": 320
    },
    "executionInfo": {
     "elapsed": 1238,
     "status": "ok",
     "timestamp": 1648716570419,
     "user": {
      "displayName": "jiyeon Kim",
      "userId": "02674522773313632904"
     },
     "user_tz": -540
    },
    "id": "OdMYGe_3TT_5",
    "outputId": "031252e4-98ef-449d-a197-7df1de726c48"
   },
   "outputs": [
    {
     "data": {
      "image/png": "[encoded data removed]",
      "text/plain": [
       "<Figure size 576x360 with 1 Axes>"
      ]
     },
     "metadata": {
      "needs_background": "light"
     },
     "output_type": "display_data"
    }
   ],
   "source": [
    "plt.figure(figsize=(8,5))\n",
    "plt.plot(history.history['loss'], label='train')\n",
    "plt.plot(history.history['val_loss'], label='valid')\n",
    "# plt.plot(history.history['feature_loss_loss'], label='train_feature', linestyle='dotted')\n",
    "# plt.plot(history.history['val_feature_loss_loss'], label='val_feature', linestyle='dotted')\n",
    "# plt.plot(history.history['ranking_loss_loss'], label='train_ranking', linestyle='dotted')\n",
    "# plt.plot(history.history['val_ranking_loss_loss'], label='val_ranking', linestyle='dotted')\n",
    "plt.legend()\n",
    "plt.grid(True)\n",
    "#plt.savefig('/home/ubuntu/patch_aug_global_lr0.00001.jpg', dpi=300, bbox_inches='tight')"
   ]
  },
  {
   "cell_type": "code",
   "execution_count": 19,
   "id": "fef28132-6bb4-4c1f-a4aa-3df4b40f0799",
   "metadata": {},
   "outputs": [],
   "source": [
    "pd.DataFrame(data=history.history).to_csv('/home/ubuntu/train0401_patch_aug_global_lr0.00001.csv', index=False)"
   ]
  },
  {
   "cell_type": "code",
   "execution_count": 14,
   "id": "kv2gfbAjex_n",
   "metadata": {
    "id": "kv2gfbAjex_n"
   },
   "outputs": [],
   "source": [
    "model.load_weights('/home/ubuntu/train_0410_patch_aug_global_sep_again0409/weights.04-1.974.hdf5') \n",
    "# 모델isd_66/weights.09-0.340.hdf5 \n",
    "# 모델isd_68/weights.11-0.154.hdf5 # 이게 max였나???????? 0.0001 --> max \n",
    "# 모델isd_69/weights.11-0.116.hdf5 #이게 average였나?????? 0.0001 --> max\n",
    "# 모델isd_70/weights.12-0.158.hdf5 0.0003 "
   ]
  },
  {
   "cell_type": "code",
   "execution_count": 15,
   "id": "7uZQYv2PihJA",
   "metadata": {
    "id": "7uZQYv2PihJA"
   },
   "outputs": [],
   "source": [
    "with tf.device('/device:GPU:0'):\n",
    "  test = model.predict(test_images)"
   ]
  },
  {
   "cell_type": "code",
   "execution_count": 17,
   "id": "S3Xx3IpbA8oS",
   "metadata": {
    "colab": {
     "base_uri": "https://localhost:8080/"
    },
    "executionInfo": {
     "elapsed": 673,
     "status": "ok",
     "timestamp": 1648730771699,
     "user": {
      "displayName": "jiyeon Kim",
      "userId": "02674522773313632904"
     },
     "user_tz": -540
    },
    "id": "S3Xx3IpbA8oS",
    "outputId": "064cd3bf-5a4e-4116-d07b-41b42044881d"
   },
   "outputs": [
    {
     "data": {
      "text/plain": [
       "24179"
      ]
     },
     "execution_count": 17,
     "metadata": {},
     "output_type": "execute_result"
    }
   ],
   "source": [
    "len(test[2])"
   ]
  },
  {
   "cell_type": "code",
   "execution_count": 16,
   "id": "89Ady3BVbWyv",
   "metadata": {
    "colab": {
     "base_uri": "https://localhost:8080/"
    },
    "executionInfo": {
     "elapsed": 701,
     "status": "ok",
     "timestamp": 1648730774128,
     "user": {
      "displayName": "jiyeon Kim",
      "userId": "02674522773313632904"
     },
     "user_tz": -540
    },
    "id": "89Ady3BVbWyv",
    "outputId": "49e6ac7d-85d3-42cf-da42-70bd11d60f60"
   },
   "outputs": [
    {
     "name": "stdout",
     "output_type": "stream",
     "text": [
      "Final result:  0.7490384\n"
     ]
    }
   ],
   "source": [
    "bi_acc = tf.keras.metrics.BinaryAccuracy()\n",
    "bi_acc.update_state(list(df['label'][-24179:]), test[2].flatten()) #\n",
    "print('Final result: ', bi_acc.result().numpy())"
   ]
  },
  {
   "cell_type": "code",
   "execution_count": null,
   "id": "qDBxyDMRH5H7",
   "metadata": {
    "colab": {
     "base_uri": "https://localhost:8080/",
     "height": 172
    },
    "executionInfo": {
     "elapsed": 852,
     "status": "error",
     "timestamp": 1646151095334,
     "user": {
      "displayName": "ji yeon KIM",
      "photoUrl": "https://lh3.googleusercontent.com/a/default-user=s64",
      "userId": "02674522773313632904"
     },
     "user_tz": -540
    },
    "id": "qDBxyDMRH5H7",
    "outputId": "043b81f4-e28d-4262-9b11-f3c01bdb8929"
   },
   "outputs": [
    {
     "ename": "NameError",
     "evalue": "ignored",
     "output_type": "error",
     "traceback": [
      "\u001b[0;31m---------------------------------------------------------------------------\u001b[0m",
      "\u001b[0;31mNameError\u001b[0m                                 Traceback (most recent call last)",
      "\u001b[0;32m<ipython-input-16-befe26c1e448>\u001b[0m in \u001b[0;36m<module>\u001b[0;34m()\u001b[0m\n\u001b[0;32m----> 1\u001b[0;31m \u001b[0mkeras\u001b[0m\u001b[0;34m.\u001b[0m\u001b[0mmetrics\u001b[0m\u001b[0;34m.\u001b[0m\u001b[0mconfusion_matrix\u001b[0m\u001b[0;34m(\u001b[0m\u001b[0mlist\u001b[0m\u001b[0;34m(\u001b[0m\u001b[0mdf\u001b[0m\u001b[0;34m[\u001b[0m\u001b[0;34m'label'\u001b[0m\u001b[0;34m]\u001b[0m\u001b[0;34m[\u001b[0m\u001b[0;34m-\u001b[0m\u001b[0;36m26814\u001b[0m\u001b[0;34m:\u001b[0m\u001b[0;34m]\u001b[0m\u001b[0;34m)\u001b[0m\u001b[0;34m,\u001b[0m \u001b[0mtest\u001b[0m\u001b[0;34m[\u001b[0m\u001b[0;36m1\u001b[0m\u001b[0;34m]\u001b[0m\u001b[0;34m.\u001b[0m\u001b[0mflatten\u001b[0m\u001b[0;34m(\u001b[0m\u001b[0;34m)\u001b[0m\u001b[0;34m)\u001b[0m\u001b[0;34m\u001b[0m\u001b[0;34m\u001b[0m\u001b[0m\n\u001b[0m",
      "\u001b[0;31mNameError\u001b[0m: name 'keras' is not defined"
     ]
    }
   ],
   "source": [
    "keras.metrics.confusion_matrix(list(df['label'][-26814:]), test[1].flatten())"
   ]
  },
  {
   "cell_type": "code",
   "execution_count": null,
   "id": "50cF_eptEVX4",
   "metadata": {
    "colab": {
     "base_uri": "https://localhost:8080/",
     "height": 632
    },
    "executionInfo": {
     "elapsed": 437,
     "status": "error",
     "timestamp": 1645980510143,
     "user": {
      "displayName": "ji yeon KIM",
      "photoUrl": "https://lh3.googleusercontent.com/a/default-user=s64",
      "userId": "02674522773313632904"
     },
     "user_tz": -540
    },
    "id": "50cF_eptEVX4",
    "outputId": "bcecab95-e8e2-409a-f8ca-ee37ab7b7949"
   },
   "outputs": [
    {
     "ename": "ValueError",
     "evalue": "ignored",
     "output_type": "error",
     "traceback": [
      "\u001b[0;31m---------------------------------------------------------------------------\u001b[0m",
      "\u001b[0;31mValueError\u001b[0m                                Traceback (most recent call last)",
      "\u001b[0;32m<ipython-input-111-8ec204a79fb5>\u001b[0m in \u001b[0;36m<module>\u001b[0;34m()\u001b[0m\n\u001b[1;32m      1\u001b[0m \u001b[0;32mwith\u001b[0m \u001b[0mtf\u001b[0m\u001b[0;34m.\u001b[0m\u001b[0mdevice\u001b[0m\u001b[0;34m(\u001b[0m\u001b[0;34m'/device:GPU:0'\u001b[0m\u001b[0;34m)\u001b[0m\u001b[0;34m:\u001b[0m\u001b[0;34m\u001b[0m\u001b[0;34m\u001b[0m\u001b[0m\n\u001b[0;32m----> 2\u001b[0;31m   \u001b[0mf\u001b[0m \u001b[0;34m=\u001b[0m \u001b[0mfeature_extraction_network\u001b[0m\u001b[0;34m.\u001b[0m\u001b[0mpredict\u001b[0m\u001b[0;34m(\u001b[0m\u001b[0mtest_images\u001b[0m\u001b[0;34m)\u001b[0m\u001b[0;34m\u001b[0m\u001b[0;34m\u001b[0m\u001b[0m\n\u001b[0m",
      "\u001b[0;32m/usr/local/lib/python3.7/dist-packages/keras/utils/traceback_utils.py\u001b[0m in \u001b[0;36merror_handler\u001b[0;34m(*args, **kwargs)\u001b[0m\n\u001b[1;32m     65\u001b[0m     \u001b[0;32mexcept\u001b[0m \u001b[0mException\u001b[0m \u001b[0;32mas\u001b[0m \u001b[0me\u001b[0m\u001b[0;34m:\u001b[0m  \u001b[0;31m# pylint: disable=broad-except\u001b[0m\u001b[0;34m\u001b[0m\u001b[0;34m\u001b[0m\u001b[0m\n\u001b[1;32m     66\u001b[0m       \u001b[0mfiltered_tb\u001b[0m \u001b[0;34m=\u001b[0m \u001b[0m_process_traceback_frames\u001b[0m\u001b[0;34m(\u001b[0m\u001b[0me\u001b[0m\u001b[0;34m.\u001b[0m\u001b[0m__traceback__\u001b[0m\u001b[0;34m)\u001b[0m\u001b[0;34m\u001b[0m\u001b[0;34m\u001b[0m\u001b[0m\n\u001b[0;32m---> 67\u001b[0;31m       \u001b[0;32mraise\u001b[0m \u001b[0me\u001b[0m\u001b[0;34m.\u001b[0m\u001b[0mwith_traceback\u001b[0m\u001b[0;34m(\u001b[0m\u001b[0mfiltered_tb\u001b[0m\u001b[0;34m)\u001b[0m \u001b[0;32mfrom\u001b[0m \u001b[0;32mNone\u001b[0m\u001b[0;34m\u001b[0m\u001b[0;34m\u001b[0m\u001b[0m\n\u001b[0m\u001b[1;32m     68\u001b[0m     \u001b[0;32mfinally\u001b[0m\u001b[0;34m:\u001b[0m\u001b[0;34m\u001b[0m\u001b[0;34m\u001b[0m\u001b[0m\n\u001b[1;32m     69\u001b[0m       \u001b[0;32mdel\u001b[0m \u001b[0mfiltered_tb\u001b[0m\u001b[0;34m\u001b[0m\u001b[0;34m\u001b[0m\u001b[0m\n",
      "\u001b[0;32m/usr/local/lib/python3.7/dist-packages/tensorflow/python/framework/func_graph.py\u001b[0m in \u001b[0;36mautograph_handler\u001b[0;34m(*args, **kwargs)\u001b[0m\n\u001b[1;32m   1145\u001b[0m           \u001b[0;32mexcept\u001b[0m \u001b[0mException\u001b[0m \u001b[0;32mas\u001b[0m \u001b[0me\u001b[0m\u001b[0;34m:\u001b[0m  \u001b[0;31m# pylint:disable=broad-except\u001b[0m\u001b[0;34m\u001b[0m\u001b[0;34m\u001b[0m\u001b[0m\n\u001b[1;32m   1146\u001b[0m             \u001b[0;32mif\u001b[0m \u001b[0mhasattr\u001b[0m\u001b[0;34m(\u001b[0m\u001b[0me\u001b[0m\u001b[0;34m,\u001b[0m \u001b[0;34m\"ag_error_metadata\"\u001b[0m\u001b[0;34m)\u001b[0m\u001b[0;34m:\u001b[0m\u001b[0;34m\u001b[0m\u001b[0;34m\u001b[0m\u001b[0m\n\u001b[0;32m-> 1147\u001b[0;31m               \u001b[0;32mraise\u001b[0m \u001b[0me\u001b[0m\u001b[0;34m.\u001b[0m\u001b[0mag_error_metadata\u001b[0m\u001b[0;34m.\u001b[0m\u001b[0mto_exception\u001b[0m\u001b[0;34m(\u001b[0m\u001b[0me\u001b[0m\u001b[0;34m)\u001b[0m\u001b[0;34m\u001b[0m\u001b[0;34m\u001b[0m\u001b[0m\n\u001b[0m\u001b[1;32m   1148\u001b[0m             \u001b[0;32melse\u001b[0m\u001b[0;34m:\u001b[0m\u001b[0;34m\u001b[0m\u001b[0;34m\u001b[0m\u001b[0m\n\u001b[1;32m   1149\u001b[0m               \u001b[0;32mraise\u001b[0m\u001b[0;34m\u001b[0m\u001b[0;34m\u001b[0m\u001b[0m\n",
      "\u001b[0;31mValueError\u001b[0m: in user code:\n\n    File \"/usr/local/lib/python3.7/dist-packages/keras/engine/training.py\", line 1801, in predict_function  *\n        return step_function(self, iterator)\n    File \"/usr/local/lib/python3.7/dist-packages/keras/engine/training.py\", line 1790, in step_function  **\n        outputs = model.distribute_strategy.run(run_step, args=(data,))\n    File \"/usr/local/lib/python3.7/dist-packages/keras/engine/training.py\", line 1783, in run_step  **\n        outputs = model.predict_step(data)\n    File \"/usr/local/lib/python3.7/dist-packages/keras/engine/training.py\", line 1751, in predict_step\n        return self(x, training=False)\n    File \"/usr/local/lib/python3.7/dist-packages/keras/utils/traceback_utils.py\", line 67, in error_handler\n        raise e.with_traceback(filtered_tb) from None\n    File \"/usr/local/lib/python3.7/dist-packages/keras/engine/input_spec.py\", line 200, in assert_input_compatibility\n        raise ValueError(f'Layer \"{layer_name}\" expects {len(input_spec)} input(s),'\n\n    ValueError: Layer \"model_53\" expects 1 input(s), but it received 2 input tensors. Inputs received: [<tf.Tensor 'IteratorGetNext:0' shape=(32, 244, 244, 3) dtype=float32>, <tf.Tensor 'IteratorGetNext:1' shape=(32, 244, 244, 3) dtype=float32>]\n"
     ]
    }
   ],
   "source": [
    "with tf.device('/device:GPU:0'):\n",
    "  f = feature_extraction_network.predict(test_images)"
   ]
  },
  {
   "cell_type": "code",
   "execution_count": null,
   "id": "sIepU1Y6wUXg",
   "metadata": {
    "id": "sIepU1Y6wUXg"
   },
   "outputs": [],
   "source": [
    "test_score_dt = tf.data.Dataset.from_tensor_slices(list(score_df['image']))\n",
    "test_score_prepro = test_score_dt.map(prepro_image)\n",
    "test_score = test_score_prepro.batch(batch_size=2, drop_remainder=True)"
   ]
  },
  {
   "cell_type": "code",
   "execution_count": null,
   "id": "YvOKrsbZ6TAD",
   "metadata": {
    "colab": {
     "base_uri": "https://localhost:8080/",
     "height": 423
    },
    "executionInfo": {
     "elapsed": 499,
     "status": "ok",
     "timestamp": 1646198868723,
     "user": {
      "displayName": "ji yeon KIM",
      "photoUrl": "https://lh3.googleusercontent.com/a/default-user=s64",
      "userId": "02674522773313632904"
     },
     "user_tz": -540
    },
    "id": "YvOKrsbZ6TAD",
    "outputId": "6f549aca-1358-4291-cdeb-235620e0781c"
   },
   "outputs": [
    {
     "data": {
      "text/html": [
       "\n",
       "  <div id=\"df-1070b89a-296a-483a-8b3f-5cf57cf0de67\">\n",
       "    <div class=\"colab-df-container\">\n",
       "      <div>\n",
       "<style scoped>\n",
       "    .dataframe tbody tr th:only-of-type {\n",
       "        vertical-align: middle;\n",
       "    }\n",
       "\n",
       "    .dataframe tbody tr th {\n",
       "        vertical-align: top;\n",
       "    }\n",
       "\n",
       "    .dataframe thead th {\n",
       "        text-align: right;\n",
       "    }\n",
       "</style>\n",
       "<table border=\"1\" class=\"dataframe\">\n",
       "  <thead>\n",
       "    <tr style=\"text-align: right;\">\n",
       "      <th></th>\n",
       "      <th>image</th>\n",
       "      <th>score</th>\n",
       "    </tr>\n",
       "  </thead>\n",
       "  <tbody>\n",
       "    <tr>\n",
       "      <th>999</th>\n",
       "      <td>111040189904.jpg</td>\n",
       "      <td>-0.858667</td>\n",
       "    </tr>\n",
       "    <tr>\n",
       "      <th>998</th>\n",
       "      <td>111038620903.jpg</td>\n",
       "      <td>1.504694</td>\n",
       "    </tr>\n",
       "    <tr>\n",
       "      <th>997</th>\n",
       "      <td>111001578302.jpg</td>\n",
       "      <td>1.078477</td>\n",
       "    </tr>\n",
       "    <tr>\n",
       "      <th>996</th>\n",
       "      <td>110671879004.jpg</td>\n",
       "      <td>-0.250278</td>\n",
       "    </tr>\n",
       "    <tr>\n",
       "      <th>995</th>\n",
       "      <td>111041243703.jpg</td>\n",
       "      <td>-2.210194</td>\n",
       "    </tr>\n",
       "    <tr>\n",
       "      <th>...</th>\n",
       "      <td>...</td>\n",
       "      <td>...</td>\n",
       "    </tr>\n",
       "    <tr>\n",
       "      <th>4</th>\n",
       "      <td>110987705503.jpg</td>\n",
       "      <td>-0.785842</td>\n",
       "    </tr>\n",
       "    <tr>\n",
       "      <th>3</th>\n",
       "      <td>111019138901.jpg</td>\n",
       "      <td>1.754476</td>\n",
       "    </tr>\n",
       "    <tr>\n",
       "      <th>2</th>\n",
       "      <td>111011929003.jpg</td>\n",
       "      <td>-0.987214</td>\n",
       "    </tr>\n",
       "    <tr>\n",
       "      <th>1</th>\n",
       "      <td>111015746404.jpg</td>\n",
       "      <td>-1.397151</td>\n",
       "    </tr>\n",
       "    <tr>\n",
       "      <th>0</th>\n",
       "      <td>111000031803.jpg</td>\n",
       "      <td>1.714493</td>\n",
       "    </tr>\n",
       "  </tbody>\n",
       "</table>\n",
       "<p>1000 rows × 2 columns</p>\n",
       "</div>\n",
       "      <button class=\"colab-df-convert\" onclick=\"convertToInteractive('df-1070b89a-296a-483a-8b3f-5cf57cf0de67')\"\n",
       "              title=\"Convert this dataframe to an interactive table.\"\n",
       "              style=\"display:none;\">\n",
       "        \n",
       "  <svg xmlns=\"http://www.w3.org/2000/svg\" height=\"24px\"viewBox=\"0 0 24 24\"\n",
       "       width=\"24px\">\n",
       "    <path d=\"M0 0h24v24H0V0z\" fill=\"none\"/>\n",
       "    <path d=\"M18.56 5.44l.94 2.06.94-2.06 2.06-.94-2.06-.94-.94-2.06-.94 2.06-2.06.94zm-11 1L8.5 8.5l.94-2.06 2.06-.94-2.06-.94L8.5 2.5l-.94 2.06-2.06.94zm10 10l.94 2.06.94-2.06 2.06-.94-2.06-.94-.94-2.06-.94 2.06-2.06.94z\"/><path d=\"M17.41 7.96l-1.37-1.37c-.4-.4-.92-.59-1.43-.59-.52 0-1.04.2-1.43.59L10.3 9.45l-7.72 7.72c-.78.78-.78 2.05 0 2.83L4 21.41c.39.39.9.59 1.41.59.51 0 1.02-.2 1.41-.59l7.78-7.78 2.81-2.81c.8-.78.8-2.07 0-2.86zM5.41 20L4 18.59l7.72-7.72 1.47 1.35L5.41 20z\"/>\n",
       "  </svg>\n",
       "      </button>\n",
       "      \n",
       "  <style>\n",
       "    .colab-df-container {\n",
       "      display:flex;\n",
       "      flex-wrap:wrap;\n",
       "      gap: 12px;\n",
       "    }\n",
       "\n",
       "    .colab-df-convert {\n",
       "      background-color: #E8F0FE;\n",
       "      border: none;\n",
       "      border-radius: 50%;\n",
       "      cursor: pointer;\n",
       "      display: none;\n",
       "      fill: #1967D2;\n",
       "      height: 32px;\n",
       "      padding: 0 0 0 0;\n",
       "      width: 32px;\n",
       "    }\n",
       "\n",
       "    .colab-df-convert:hover {\n",
       "      background-color: #E2EBFA;\n",
       "      box-shadow: 0px 1px 2px rgba(60, 64, 67, 0.3), 0px 1px 3px 1px rgba(60, 64, 67, 0.15);\n",
       "      fill: #174EA6;\n",
       "    }\n",
       "\n",
       "    [theme=dark] .colab-df-convert {\n",
       "      background-color: #3B4455;\n",
       "      fill: #D2E3FC;\n",
       "    }\n",
       "\n",
       "    [theme=dark] .colab-df-convert:hover {\n",
       "      background-color: #434B5C;\n",
       "      box-shadow: 0px 1px 3px 1px rgba(0, 0, 0, 0.15);\n",
       "      filter: drop-shadow(0px 1px 2px rgba(0, 0, 0, 0.3));\n",
       "      fill: #FFFFFF;\n",
       "    }\n",
       "  </style>\n",
       "\n",
       "      <script>\n",
       "        const buttonEl =\n",
       "          document.querySelector('#df-1070b89a-296a-483a-8b3f-5cf57cf0de67 button.colab-df-convert');\n",
       "        buttonEl.style.display =\n",
       "          google.colab.kernel.accessAllowed ? 'block' : 'none';\n",
       "\n",
       "        async function convertToInteractive(key) {\n",
       "          const element = document.querySelector('#df-1070b89a-296a-483a-8b3f-5cf57cf0de67');\n",
       "          const dataTable =\n",
       "            await google.colab.kernel.invokeFunction('convertToInteractive',\n",
       "                                                     [key], {});\n",
       "          if (!dataTable) return;\n",
       "\n",
       "          const docLinkHtml = 'Like what you see? Visit the ' +\n",
       "            '<a target=\"_blank\" href=https://colab.research.google.com/notebooks/data_table.ipynb>data table notebook</a>'\n",
       "            + ' to learn more about interactive tables.';\n",
       "          element.innerHTML = '';\n",
       "          dataTable['output_type'] = 'display_data';\n",
       "          await google.colab.output.renderOutput(dataTable, element);\n",
       "          const docLink = document.createElement('div');\n",
       "          docLink.innerHTML = docLinkHtml;\n",
       "          element.appendChild(docLink);\n",
       "        }\n",
       "      </script>\n",
       "    </div>\n",
       "  </div>\n",
       "  "
      ],
      "text/plain": [
       "                image     score\n",
       "999  111040189904.jpg -0.858667\n",
       "998  111038620903.jpg  1.504694\n",
       "997  111001578302.jpg  1.078477\n",
       "996  110671879004.jpg -0.250278\n",
       "995  111041243703.jpg -2.210194\n",
       "..                ...       ...\n",
       "4    110987705503.jpg -0.785842\n",
       "3    111019138901.jpg  1.754476\n",
       "2    111011929003.jpg -0.987214\n",
       "1    111015746404.jpg -1.397151\n",
       "0    111000031803.jpg  1.714493\n",
       "\n",
       "[1000 rows x 2 columns]"
      ]
     },
     "execution_count": 114,
     "metadata": {},
     "output_type": "execute_result"
    }
   ],
   "source": [
    "tmp "
   ]
  },
  {
   "cell_type": "code",
   "execution_count": null,
   "id": "mEQ8aEg9FtjQ",
   "metadata": {
    "colab": {
     "base_uri": "https://localhost:8080/",
     "height": 269
    },
    "executionInfo": {
     "elapsed": 2095,
     "status": "ok",
     "timestamp": 1646199389243,
     "user": {
      "displayName": "ji yeon KIM",
      "photoUrl": "https://lh3.googleusercontent.com/a/default-user=s64",
      "userId": "02674522773313632904"
     },
     "user_tz": -540
    },
    "id": "mEQ8aEg9FtjQ",
    "outputId": "b4e7eb2c-3f67-4f58-bcd3-35d2c60f93ac"
   },
   "outputs": [
    {
     "data": {
      "image/png": "[encoded data removed]",
      "text/plain": [
       "<Figure size 432x288 with 1 Axes>"
      ]
     },
     "metadata": {},
     "output_type": "display_data"
    }
   ],
   "source": [
    "image = img.imread('111000031803.jpg')\n",
    "plt.imshow(image)\n",
    "plt.show()"
   ]
  },
  {
   "cell_type": "code",
   "execution_count": null,
   "id": "13AA5E826XCC",
   "metadata": {
    "id": "13AA5E826XCC"
   },
   "outputs": [],
   "source": [
    "plt.hist(score_df)"
   ]
  },
  {
   "cell_type": "code",
   "execution_count": null,
   "id": "41msEjvfxWQP",
   "metadata": {
    "id": "41msEjvfxWQP"
   },
   "outputs": [],
   "source": [
    "test_score_dt = tf.data.Dataset.from_tensor_slices(list(score_df['image']))\n",
    "test_score_prepro = test_score_dt.map(prepro_image)\n",
    "test_score = test_score_prepro.batch(batch_size=2, drop_remainder=drop_remainder)"
   ]
  },
  {
   "cell_type": "code",
   "execution_count": null,
   "id": "TmazNcdA1JpM",
   "metadata": {
    "colab": {
     "base_uri": "https://localhost:8080/"
    },
    "executionInfo": {
     "elapsed": 24,
     "status": "ok",
     "timestamp": 1646832128970,
     "user": {
      "displayName": "ji yeon KIM",
      "photoUrl": "https://lh3.googleusercontent.com/a/default-user=s64",
      "userId": "02674522773313632904"
     },
     "user_tz": -540
    },
    "id": "TmazNcdA1JpM",
    "outputId": "926f4876-ff19-4e61-c5c8-e4730cb67c5f"
   },
   "outputs": [
    {
     "data": {
      "text/plain": [
       "30029"
      ]
     },
     "execution_count": 21,
     "metadata": {},
     "output_type": "execute_result"
    }
   ],
   "source": [
    "len(score_df)"
   ]
  },
  {
   "cell_type": "code",
   "execution_count": null,
   "id": "Gvwm-J7C3DwL",
   "metadata": {
    "id": "Gvwm-J7C3DwL"
   },
   "outputs": [],
   "source": [
    "for start_index, end_index in zip(range(0, 10000-490, 490), range(490, 10000+232, 490)):\n",
    "  print(start_index, end_index)"
   ]
  },
  {
   "cell_type": "code",
   "execution_count": null,
   "id": "3YteFyipxezF",
   "metadata": {
    "colab": {
     "base_uri": "https://localhost:8080/"
    },
    "executionInfo": {
     "elapsed": 100077,
     "status": "ok",
     "timestamp": 1646833221434,
     "user": {
      "displayName": "ji yeon KIM",
      "photoUrl": "https://lh3.googleusercontent.com/a/default-user=s64",
      "userId": "02674522773313632904"
     },
     "user_tz": -540
    },
    "id": "3YteFyipxezF",
    "outputId": "b73f23ea-1150-40a3-b847-ca5b3df5e519"
   },
   "outputs": [
    {
     "name": "stdout",
     "output_type": "stream",
     "text": [
      "0 1000\n",
      "1000 2000\n",
      "2000 3000\n",
      "3000 4000\n",
      "4000 5000\n",
      "5000 6000\n",
      "6000 7000\n",
      "7000 8000\n",
      "8000 9000\n",
      "9000 10000\n",
      "10000 11000\n",
      "11000 12000\n",
      "12000 13000\n",
      "13000 14000\n",
      "14000 15000\n",
      "15000 16000\n",
      "16000 17000\n",
      "17000 18000\n",
      "18000 19000\n",
      "19000 20000\n",
      "20000 21000\n",
      "21000 22000\n",
      "22000 23000\n",
      "23000 24000\n",
      "24000 25000\n",
      "25000 26000\n",
      "26000 27000\n",
      "27000 28000\n",
      "28000 29000\n",
      "29000 30000\n"
     ]
    }
   ],
   "source": [
    "test_total_df = pd.DataFrame(columns=['image', 'score'])\n",
    "\n",
    "with tf.device('/device:GPU:0'):\n",
    "  for start, end in zip(range(0, len(score_df), 1000), range(1000, len(score_df), 1000)):\n",
    "    print(start, end)\n",
    "    test_score_dt = tf.data.Dataset.from_tensor_slices(list(score_df['image'][start:end]))\n",
    "    test_score_prepro = test_score_dt.map(prepro_image)\n",
    "    test_score = test_score_prepro.batch(batch_size=2, drop_remainder=drop_remainder)\n",
    "    score = score_model.predict(feature_extraction_network.predict(test_score))\n",
    "    test_total_df = test_total_df.append(pd.DataFrame(data={'image':list(score_df['image'][start:end]),\n",
    "                                          'score':score.flatten()}), ignore_index=True)"
   ]
  },
  {
   "cell_type": "code",
   "execution_count": null,
   "id": "OX1sXbDc6RjI",
   "metadata": {
    "id": "OX1sXbDc6RjI"
   },
   "outputs": [],
   "source": [
    "with tf.device('/device:GPU:0'):\n",
    "    test_score_dt = tf.data.Dataset.from_tensor_slices(list(score_df['image'][-29:]))\n",
    "    test_score_prepro = test_score_dt.map(prepro_image)\n",
    "    test_score = test_score_prepro.batch(batch_size=1, drop_remainder=drop_remainder)\n",
    "    score = score_model.predict(feature_extraction_network.predict(test_score))\n",
    "    test_total_df = test_total_df.append(pd.DataFrame(data={'image':list(score_df['image'][-29:]),\n",
    "                                          'score':score.flatten()}), ignore_index=True)"
   ]
  },
  {
   "cell_type": "code",
   "execution_count": null,
   "id": "QnFB1jhH6rcw",
   "metadata": {
    "colab": {
     "base_uri": "https://localhost:8080/"
    },
    "executionInfo": {
     "elapsed": 418,
     "status": "ok",
     "timestamp": 1646833431695,
     "user": {
      "displayName": "ji yeon KIM",
      "photoUrl": "https://lh3.googleusercontent.com/a/default-user=s64",
      "userId": "02674522773313632904"
     },
     "user_tz": -540
    },
    "id": "QnFB1jhH6rcw",
    "outputId": "398d233c-9804-4e72-aa93-5b872d06220e"
   },
   "outputs": [
    {
     "data": {
      "text/plain": [
       "(29, 1)"
      ]
     },
     "execution_count": 44,
     "metadata": {},
     "output_type": "execute_result"
    }
   ],
   "source": [
    "score.shape"
   ]
  },
  {
   "cell_type": "code",
   "execution_count": 19,
   "id": "N8jXAS8z60Bf",
   "metadata": {
    "colab": {
     "base_uri": "https://localhost:8080/"
    },
    "executionInfo": {
     "elapsed": 398,
     "status": "ok",
     "timestamp": 1646833417325,
     "user": {
      "displayName": "ji yeon KIM",
      "photoUrl": "https://lh3.googleusercontent.com/a/default-user=s64",
      "userId": "02674522773313632904"
     },
     "user_tz": -540
    },
    "id": "N8jXAS8z60Bf",
    "outputId": "d85608b5-f7ce-4645-e3cc-37fb7238b323"
   },
   "outputs": [],
   "source": [
    "d = pd.DataFrame(data=history.history)"
   ]
  },
  {
   "cell_type": "code",
   "execution_count": 20,
   "id": "idPbm9Oa5BTE",
   "metadata": {
    "id": "idPbm9Oa5BTE"
   },
   "outputs": [],
   "source": [
    "d.to_csv('/home/ubuntu/sep_loss_from10_to14.csv', index=False)"
   ]
  },
  {
   "cell_type": "code",
   "execution_count": null,
   "id": "ln_SQY4PmGJ-",
   "metadata": {
    "colab": {
     "base_uri": "https://localhost:8080/",
     "height": 342
    },
    "executionInfo": {
     "elapsed": 849450,
     "status": "error",
     "timestamp": 1646830437378,
     "user": {
      "displayName": "ji yeon KIM",
      "photoUrl": "https://lh3.googleusercontent.com/a/default-user=s64",
      "userId": "02674522773313632904"
     },
     "user_tz": -540
    },
    "id": "ln_SQY4PmGJ-",
    "outputId": "6bb74253-9328-43c5-9008-65007f3e9c37"
   },
   "outputs": [
    {
     "ename": "ResourceExhaustedError",
     "evalue": "ignored",
     "output_type": "error",
     "traceback": [
      "\u001b[0;31m---------------------------------------------------------------------------\u001b[0m",
      "\u001b[0;31mResourceExhaustedError\u001b[0m                    Traceback (most recent call last)",
      "\u001b[0;32m<ipython-input-27-23c0ae858481>\u001b[0m in \u001b[0;36m<module>\u001b[0;34m()\u001b[0m\n\u001b[1;32m      1\u001b[0m \u001b[0;32mwith\u001b[0m \u001b[0mtf\u001b[0m\u001b[0;34m.\u001b[0m\u001b[0mdevice\u001b[0m\u001b[0;34m(\u001b[0m\u001b[0;34m'/device:GPU:0'\u001b[0m\u001b[0;34m)\u001b[0m\u001b[0;34m:\u001b[0m\u001b[0;34m\u001b[0m\u001b[0;34m\u001b[0m\u001b[0m\n\u001b[0;32m----> 2\u001b[0;31m   \u001b[0mscore\u001b[0m \u001b[0;34m=\u001b[0m \u001b[0mscore_model\u001b[0m\u001b[0;34m.\u001b[0m\u001b[0mpredict\u001b[0m\u001b[0;34m(\u001b[0m\u001b[0mfeature_extraction_network\u001b[0m\u001b[0;34m.\u001b[0m\u001b[0mpredict\u001b[0m\u001b[0;34m(\u001b[0m\u001b[0mtest_score\u001b[0m\u001b[0;34m)\u001b[0m\u001b[0;34m)\u001b[0m\u001b[0;34m\u001b[0m\u001b[0;34m\u001b[0m\u001b[0m\n\u001b[0m",
      "\u001b[0;32m/usr/local/lib/python3.7/dist-packages/keras/utils/traceback_utils.py\u001b[0m in \u001b[0;36merror_handler\u001b[0;34m(*args, **kwargs)\u001b[0m\n\u001b[1;32m     65\u001b[0m     \u001b[0;32mexcept\u001b[0m \u001b[0mException\u001b[0m \u001b[0;32mas\u001b[0m \u001b[0me\u001b[0m\u001b[0;34m:\u001b[0m  \u001b[0;31m# pylint: disable=broad-except\u001b[0m\u001b[0;34m\u001b[0m\u001b[0;34m\u001b[0m\u001b[0m\n\u001b[1;32m     66\u001b[0m       \u001b[0mfiltered_tb\u001b[0m \u001b[0;34m=\u001b[0m \u001b[0m_process_traceback_frames\u001b[0m\u001b[0;34m(\u001b[0m\u001b[0me\u001b[0m\u001b[0;34m.\u001b[0m\u001b[0m__traceback__\u001b[0m\u001b[0;34m)\u001b[0m\u001b[0;34m\u001b[0m\u001b[0;34m\u001b[0m\u001b[0m\n\u001b[0;32m---> 67\u001b[0;31m       \u001b[0;32mraise\u001b[0m \u001b[0me\u001b[0m\u001b[0;34m.\u001b[0m\u001b[0mwith_traceback\u001b[0m\u001b[0;34m(\u001b[0m\u001b[0mfiltered_tb\u001b[0m\u001b[0;34m)\u001b[0m \u001b[0;32mfrom\u001b[0m \u001b[0;32mNone\u001b[0m\u001b[0;34m\u001b[0m\u001b[0;34m\u001b[0m\u001b[0m\n\u001b[0m\u001b[1;32m     68\u001b[0m     \u001b[0;32mfinally\u001b[0m\u001b[0;34m:\u001b[0m\u001b[0;34m\u001b[0m\u001b[0;34m\u001b[0m\u001b[0m\n\u001b[1;32m     69\u001b[0m       \u001b[0;32mdel\u001b[0m \u001b[0mfiltered_tb\u001b[0m\u001b[0;34m\u001b[0m\u001b[0;34m\u001b[0m\u001b[0m\n",
      "\u001b[0;32m/usr/local/lib/python3.7/dist-packages/tensorflow/python/framework/ops.py\u001b[0m in \u001b[0;36mraise_from_not_ok_status\u001b[0;34m(e, name)\u001b[0m\n\u001b[1;32m   7184\u001b[0m \u001b[0;32mdef\u001b[0m \u001b[0mraise_from_not_ok_status\u001b[0m\u001b[0;34m(\u001b[0m\u001b[0me\u001b[0m\u001b[0;34m,\u001b[0m \u001b[0mname\u001b[0m\u001b[0;34m)\u001b[0m\u001b[0;34m:\u001b[0m\u001b[0;34m\u001b[0m\u001b[0;34m\u001b[0m\u001b[0m\n\u001b[1;32m   7185\u001b[0m   \u001b[0me\u001b[0m\u001b[0;34m.\u001b[0m\u001b[0mmessage\u001b[0m \u001b[0;34m+=\u001b[0m \u001b[0;34m(\u001b[0m\u001b[0;34m\" name: \"\u001b[0m \u001b[0;34m+\u001b[0m \u001b[0mname\u001b[0m \u001b[0;32mif\u001b[0m \u001b[0mname\u001b[0m \u001b[0;32mis\u001b[0m \u001b[0;32mnot\u001b[0m \u001b[0;32mNone\u001b[0m \u001b[0;32melse\u001b[0m \u001b[0;34m\"\"\u001b[0m\u001b[0;34m)\u001b[0m\u001b[0;34m\u001b[0m\u001b[0;34m\u001b[0m\u001b[0m\n\u001b[0;32m-> 7186\u001b[0;31m   \u001b[0;32mraise\u001b[0m \u001b[0mcore\u001b[0m\u001b[0;34m.\u001b[0m\u001b[0m_status_to_exception\u001b[0m\u001b[0;34m(\u001b[0m\u001b[0me\u001b[0m\u001b[0;34m)\u001b[0m \u001b[0;32mfrom\u001b[0m \u001b[0;32mNone\u001b[0m  \u001b[0;31m# pylint: disable=protected-access\u001b[0m\u001b[0;34m\u001b[0m\u001b[0;34m\u001b[0m\u001b[0m\n\u001b[0m\u001b[1;32m   7187\u001b[0m \u001b[0;34m\u001b[0m\u001b[0m\n\u001b[1;32m   7188\u001b[0m \u001b[0;34m\u001b[0m\u001b[0m\n",
      "\u001b[0;31mResourceExhaustedError\u001b[0m: OOM when allocating tensor with shape[30028,14,14,512] and type float on /job:localhost/replica:0/task:0/device:GPU:0 by allocator GPU_0_bfc [Op:ConcatV2] name: concat"
     ]
    }
   ],
   "source": [
    "with tf.device('/device:GPU:0'):\n",
    "  score = score_model.predict(feature_extraction_network.predict(test_score))"
   ]
  },
  {
   "cell_type": "code",
   "execution_count": null,
   "id": "yMIOx07-4hYL",
   "metadata": {
    "colab": {
     "base_uri": "https://localhost:8080/"
    },
    "executionInfo": {
     "elapsed": 10,
     "status": "ok",
     "timestamp": 1646195262782,
     "user": {
      "displayName": "ji yeon KIM",
      "photoUrl": "https://lh3.googleusercontent.com/a/default-user=s64",
      "userId": "02674522773313632904"
     },
     "user_tz": -540
    },
    "id": "yMIOx07-4hYL",
    "outputId": "0f11a23c-e9a3-459f-cf6f-0ff9429bb9c2"
   },
   "outputs": [
    {
     "data": {
      "text/plain": [
       "(1000, 1)"
      ]
     },
     "execution_count": 37,
     "metadata": {},
     "output_type": "execute_result"
    }
   ],
   "source": [
    "score.shape"
   ]
  },
  {
   "cell_type": "code",
   "execution_count": null,
   "id": "u_lsRjLJE56f",
   "metadata": {
    "colab": {
     "base_uri": "https://localhost:8080/"
    },
    "executionInfo": {
     "elapsed": 18,
     "status": "ok",
     "timestamp": 1646198571792,
     "user": {
      "displayName": "ji yeon KIM",
      "photoUrl": "https://lh3.googleusercontent.com/a/default-user=s64",
      "userId": "02674522773313632904"
     },
     "user_tz": -540
    },
    "id": "u_lsRjLJE56f",
    "outputId": "90909de2-2652-4531-bad5-91d4de84ba65"
   },
   "outputs": [
    {
     "name": "stderr",
     "output_type": "stream",
     "text": [
      "/usr/local/lib/python3.7/dist-packages/ipykernel_launcher.py:1: SettingWithCopyWarning: \n",
      "A value is trying to be set on a copy of a slice from a DataFrame.\n",
      "Try using .loc[row_indexer,col_indexer] = value instead\n",
      "\n",
      "See the caveats in the documentation: https://pandas.pydata.org/pandas-docs/stable/user_guide/indexing.html#returning-a-view-versus-a-copy\n",
      "  \"\"\"Entry point for launching an IPython kernel.\n"
     ]
    }
   ],
   "source": [
    "tmp['score'] = score"
   ]
  },
  {
   "cell_type": "code",
   "execution_count": null,
   "id": "_wtYBc6kFRBq",
   "metadata": {
    "colab": {
     "base_uri": "https://localhost:8080/",
     "height": 423
    },
    "executionInfo": {
     "elapsed": 812,
     "status": "ok",
     "timestamp": 1646198601463,
     "user": {
      "displayName": "ji yeon KIM",
      "photoUrl": "https://lh3.googleusercontent.com/a/default-user=s64",
      "userId": "02674522773313632904"
     },
     "user_tz": -540
    },
    "id": "_wtYBc6kFRBq",
    "outputId": "2ac0e202-1848-42ba-8c2b-46dadfb4b1c8"
   },
   "outputs": [
    {
     "data": {
      "text/html": [
       "\n",
       "  <div id=\"df-aab745ae-ac3d-4050-8176-b5bbe78d4076\">\n",
       "    <div class=\"colab-df-container\">\n",
       "      <div>\n",
       "<style scoped>\n",
       "    .dataframe tbody tr th:only-of-type {\n",
       "        vertical-align: middle;\n",
       "    }\n",
       "\n",
       "    .dataframe tbody tr th {\n",
       "        vertical-align: top;\n",
       "    }\n",
       "\n",
       "    .dataframe thead th {\n",
       "        text-align: right;\n",
       "    }\n",
       "</style>\n",
       "<table border=\"1\" class=\"dataframe\">\n",
       "  <thead>\n",
       "    <tr style=\"text-align: right;\">\n",
       "      <th></th>\n",
       "      <th>image</th>\n",
       "      <th>score</th>\n",
       "    </tr>\n",
       "  </thead>\n",
       "  <tbody>\n",
       "    <tr>\n",
       "      <th>815</th>\n",
       "      <td>110988208804.jpg</td>\n",
       "      <td>-3.086008</td>\n",
       "    </tr>\n",
       "    <tr>\n",
       "      <th>145</th>\n",
       "      <td>110973345304.jpg</td>\n",
       "      <td>-2.959976</td>\n",
       "    </tr>\n",
       "    <tr>\n",
       "      <th>793</th>\n",
       "      <td>111017077903.jpg</td>\n",
       "      <td>-2.705365</td>\n",
       "    </tr>\n",
       "    <tr>\n",
       "      <th>489</th>\n",
       "      <td>111002944801.jpg</td>\n",
       "      <td>-2.407526</td>\n",
       "    </tr>\n",
       "    <tr>\n",
       "      <th>230</th>\n",
       "      <td>110988120104.jpg</td>\n",
       "      <td>-2.404147</td>\n",
       "    </tr>\n",
       "    <tr>\n",
       "      <th>...</th>\n",
       "      <td>...</td>\n",
       "      <td>...</td>\n",
       "    </tr>\n",
       "    <tr>\n",
       "      <th>136</th>\n",
       "      <td>111013558302.jpg</td>\n",
       "      <td>3.169669</td>\n",
       "    </tr>\n",
       "    <tr>\n",
       "      <th>61</th>\n",
       "      <td>111031152304.jpg</td>\n",
       "      <td>3.205871</td>\n",
       "    </tr>\n",
       "    <tr>\n",
       "      <th>589</th>\n",
       "      <td>110990550402.jpg</td>\n",
       "      <td>3.900252</td>\n",
       "    </tr>\n",
       "    <tr>\n",
       "      <th>122</th>\n",
       "      <td>110990550402.jpg</td>\n",
       "      <td>3.900252</td>\n",
       "    </tr>\n",
       "    <tr>\n",
       "      <th>461</th>\n",
       "      <td>111040643902.jpg</td>\n",
       "      <td>4.187151</td>\n",
       "    </tr>\n",
       "  </tbody>\n",
       "</table>\n",
       "<p>1000 rows × 2 columns</p>\n",
       "</div>\n",
       "      <button class=\"colab-df-convert\" onclick=\"convertToInteractive('df-aab745ae-ac3d-4050-8176-b5bbe78d4076')\"\n",
       "              title=\"Convert this dataframe to an interactive table.\"\n",
       "              style=\"display:none;\">\n",
       "        \n",
       "  <svg xmlns=\"http://www.w3.org/2000/svg\" height=\"24px\"viewBox=\"0 0 24 24\"\n",
       "       width=\"24px\">\n",
       "    <path d=\"M0 0h24v24H0V0z\" fill=\"none\"/>\n",
       "    <path d=\"M18.56 5.44l.94 2.06.94-2.06 2.06-.94-2.06-.94-.94-2.06-.94 2.06-2.06.94zm-11 1L8.5 8.5l.94-2.06 2.06-.94-2.06-.94L8.5 2.5l-.94 2.06-2.06.94zm10 10l.94 2.06.94-2.06 2.06-.94-2.06-.94-.94-2.06-.94 2.06-2.06.94z\"/><path d=\"M17.41 7.96l-1.37-1.37c-.4-.4-.92-.59-1.43-.59-.52 0-1.04.2-1.43.59L10.3 9.45l-7.72 7.72c-.78.78-.78 2.05 0 2.83L4 21.41c.39.39.9.59 1.41.59.51 0 1.02-.2 1.41-.59l7.78-7.78 2.81-2.81c.8-.78.8-2.07 0-2.86zM5.41 20L4 18.59l7.72-7.72 1.47 1.35L5.41 20z\"/>\n",
       "  </svg>\n",
       "      </button>\n",
       "      \n",
       "  <style>\n",
       "    .colab-df-container {\n",
       "      display:flex;\n",
       "      flex-wrap:wrap;\n",
       "      gap: 12px;\n",
       "    }\n",
       "\n",
       "    .colab-df-convert {\n",
       "      background-color: #E8F0FE;\n",
       "      border: none;\n",
       "      border-radius: 50%;\n",
       "      cursor: pointer;\n",
       "      display: none;\n",
       "      fill: #1967D2;\n",
       "      height: 32px;\n",
       "      padding: 0 0 0 0;\n",
       "      width: 32px;\n",
       "    }\n",
       "\n",
       "    .colab-df-convert:hover {\n",
       "      background-color: #E2EBFA;\n",
       "      box-shadow: 0px 1px 2px rgba(60, 64, 67, 0.3), 0px 1px 3px 1px rgba(60, 64, 67, 0.15);\n",
       "      fill: #174EA6;\n",
       "    }\n",
       "\n",
       "    [theme=dark] .colab-df-convert {\n",
       "      background-color: #3B4455;\n",
       "      fill: #D2E3FC;\n",
       "    }\n",
       "\n",
       "    [theme=dark] .colab-df-convert:hover {\n",
       "      background-color: #434B5C;\n",
       "      box-shadow: 0px 1px 3px 1px rgba(0, 0, 0, 0.15);\n",
       "      filter: drop-shadow(0px 1px 2px rgba(0, 0, 0, 0.3));\n",
       "      fill: #FFFFFF;\n",
       "    }\n",
       "  </style>\n",
       "\n",
       "      <script>\n",
       "        const buttonEl =\n",
       "          document.querySelector('#df-aab745ae-ac3d-4050-8176-b5bbe78d4076 button.colab-df-convert');\n",
       "        buttonEl.style.display =\n",
       "          google.colab.kernel.accessAllowed ? 'block' : 'none';\n",
       "\n",
       "        async function convertToInteractive(key) {\n",
       "          const element = document.querySelector('#df-aab745ae-ac3d-4050-8176-b5bbe78d4076');\n",
       "          const dataTable =\n",
       "            await google.colab.kernel.invokeFunction('convertToInteractive',\n",
       "                                                     [key], {});\n",
       "          if (!dataTable) return;\n",
       "\n",
       "          const docLinkHtml = 'Like what you see? Visit the ' +\n",
       "            '<a target=\"_blank\" href=https://colab.research.google.com/notebooks/data_table.ipynb>data table notebook</a>'\n",
       "            + ' to learn more about interactive tables.';\n",
       "          element.innerHTML = '';\n",
       "          dataTable['output_type'] = 'display_data';\n",
       "          await google.colab.output.renderOutput(dataTable, element);\n",
       "          const docLink = document.createElement('div');\n",
       "          docLink.innerHTML = docLinkHtml;\n",
       "          element.appendChild(docLink);\n",
       "        }\n",
       "      </script>\n",
       "    </div>\n",
       "  </div>\n",
       "  "
      ],
      "text/plain": [
       "                image     score\n",
       "815  110988208804.jpg -3.086008\n",
       "145  110973345304.jpg -2.959976\n",
       "793  111017077903.jpg -2.705365\n",
       "489  111002944801.jpg -2.407526\n",
       "230  110988120104.jpg -2.404147\n",
       "..                ...       ...\n",
       "136  111013558302.jpg  3.169669\n",
       "61   111031152304.jpg  3.205871\n",
       "589  110990550402.jpg  3.900252\n",
       "122  110990550402.jpg  3.900252\n",
       "461  111040643902.jpg  4.187151\n",
       "\n",
       "[1000 rows x 2 columns]"
      ]
     },
     "execution_count": 107,
     "metadata": {},
     "output_type": "execute_result"
    }
   ],
   "source": [
    "tmp.sort_values(by='score')\n",
    "110988208804.jpg\t-3.086008"
   ]
  },
  {
   "cell_type": "code",
   "execution_count": null,
   "id": "dufHJKN3tqrf",
   "metadata": {
    "id": "dufHJKN3tqrf"
   },
   "outputs": [],
   "source": [
    "score_df1000 = score_df.iloc[:1000]"
   ]
  },
  {
   "cell_type": "code",
   "execution_count": null,
   "id": "beRtSK1H4oEq",
   "metadata": {
    "colab": {
     "base_uri": "https://localhost:8080/"
    },
    "executionInfo": {
     "elapsed": 383,
     "status": "ok",
     "timestamp": 1646199609136,
     "user": {
      "displayName": "ji yeon KIM",
      "photoUrl": "https://lh3.googleusercontent.com/a/default-user=s64",
      "userId": "02674522773313632904"
     },
     "user_tz": -540
    },
    "id": "beRtSK1H4oEq",
    "outputId": "2dc5f852-00e4-403a-b40e-387e4f97394d"
   },
   "outputs": [
    {
     "name": "stderr",
     "output_type": "stream",
     "text": [
      "/usr/local/lib/python3.7/dist-packages/ipykernel_launcher.py:1: SettingWithCopyWarning: \n",
      "A value is trying to be set on a copy of a slice from a DataFrame.\n",
      "Try using .loc[row_indexer,col_indexer] = value instead\n",
      "\n",
      "See the caveats in the documentation: https://pandas.pydata.org/pandas-docs/stable/user_guide/indexing.html#returning-a-view-versus-a-copy\n",
      "  \"\"\"Entry point for launching an IPython kernel.\n"
     ]
    }
   ],
   "source": [
    "score_df1000['score'] = score"
   ]
  },
  {
   "cell_type": "code",
   "execution_count": null,
   "id": "zTtlgQCcEc-A",
   "metadata": {
    "colab": {
     "base_uri": "https://localhost:8080/"
    },
    "executionInfo": {
     "elapsed": 9,
     "status": "ok",
     "timestamp": 1646198470970,
     "user": {
      "displayName": "ji yeon KIM",
      "photoUrl": "https://lh3.googleusercontent.com/a/default-user=s64",
      "userId": "02674522773313632904"
     },
     "user_tz": -540
    },
    "id": "zTtlgQCcEc-A",
    "outputId": "cdafcb6a-f289-406d-af78-c820fe4af8ca"
   },
   "outputs": [
    {
     "data": {
      "text/plain": [
       "(1000, 1)"
      ]
     },
     "execution_count": 103,
     "metadata": {},
     "output_type": "execute_result"
    }
   ],
   "source": [
    "score.shape"
   ]
  },
  {
   "cell_type": "code",
   "execution_count": null,
   "id": "HIM1kTia5AEw",
   "metadata": {
    "id": "HIM1kTia5AEw"
   },
   "outputs": [],
   "source": [
    "score_df1000.to_csv('/content/drive/MyDrive/lx_siameseModel/scord_df1000.csv', index=False)"
   ]
  },
  {
   "cell_type": "code",
   "execution_count": null,
   "id": "1g_SwZA9zmXh",
   "metadata": {
    "id": "1g_SwZA9zmXh"
   },
   "outputs": [],
   "source": [
    "score700 = np.concatenate([score400, score1])"
   ]
  },
  {
   "cell_type": "code",
   "execution_count": null,
   "id": "rXm0yukZ0ek7",
   "metadata": {
    "id": "rXm0yukZ0ek7"
   },
   "outputs": [],
   "source": [
    "score1000 = np.concatenate([score700, score2])"
   ]
  },
  {
   "cell_type": "code",
   "execution_count": null,
   "id": "yo_6AIyk0wpa",
   "metadata": {
    "colab": {
     "base_uri": "https://localhost:8080/"
    },
    "executionInfo": {
     "elapsed": 386,
     "status": "ok",
     "timestamp": 1646194333243,
     "user": {
      "displayName": "ji yeon KIM",
      "photoUrl": "https://lh3.googleusercontent.com/a/default-user=s64",
      "userId": "02674522773313632904"
     },
     "user_tz": -540
    },
    "id": "yo_6AIyk0wpa",
    "outputId": "0ceec858-5054-4cde-d954-0768ba1c262a"
   },
   "outputs": [
    {
     "data": {
      "text/plain": [
       "(200, 1)"
      ]
     },
     "execution_count": 33,
     "metadata": {},
     "output_type": "execute_result"
    }
   ],
   "source": [
    "score2.shape"
   ]
  },
  {
   "cell_type": "code",
   "execution_count": null,
   "id": "rKzBXQpRz3KW",
   "metadata": {
    "id": "rKzBXQpRz3KW"
   },
   "outputs": [],
   "source": [
    "make_folder = f'/content/drive/MyDrive/lx_siameseModel/graph'\n",
    "if not os.path.exists(make_folder):\n",
    "  os.makedirs(make_folder) "
   ]
  },
  {
   "cell_type": "code",
   "execution_count": null,
   "id": "q22_JQXft2-s",
   "metadata": {
    "colab": {
     "base_uri": "https://localhost:8080/",
     "height": 211
    },
    "executionInfo": {
     "elapsed": 1020,
     "status": "ok",
     "timestamp": 1646833689203,
     "user": {
      "displayName": "ji yeon KIM",
      "photoUrl": "https://lh3.googleusercontent.com/a/default-user=s64",
      "userId": "02674522773313632904"
     },
     "user_tz": -540
    },
    "id": "q22_JQXft2-s",
    "outputId": "b8e4b7f4-a5ce-42c5-a959-a7e708dd95ab"
   },
   "outputs": [
    {
     "data": {
      "image/png": "[encoded data removed]",
      "text/plain": [
       "<Figure size 360x216 with 1 Axes>"
      ]
     },
     "metadata": {},
     "output_type": "display_data"
    }
   ],
   "source": [
    "plt.figure(figsize=(5, 3))\n",
    "plt.hist(test_total_df['score'], bins=100, color='green');\n",
    "plt.grid(True)\n",
    "plt.savefig('/content/drive/MyDrive/lx_siameseModel/graph/test_score_30029_hist.jpg', dpi=300, bbox_inches='tight')"
   ]
  },
  {
   "cell_type": "code",
   "execution_count": null,
   "id": "yBYJ3vnW9GSS",
   "metadata": {
    "colab": {
     "base_uri": "https://localhost:8080/",
     "height": 336
    },
    "executionInfo": {
     "elapsed": 331,
     "status": "error",
     "timestamp": 1646151111980,
     "user": {
      "displayName": "ji yeon KIM",
      "photoUrl": "https://lh3.googleusercontent.com/a/default-user=s64",
      "userId": "02674522773313632904"
     },
     "user_tz": -540
    },
    "id": "yBYJ3vnW9GSS",
    "outputId": "149c38c1-2a68-4880-fec5-b471ddfd96fc"
   },
   "outputs": [
    {
     "ename": "ImportError",
     "evalue": "ignored",
     "output_type": "error",
     "traceback": [
      "\u001b[0;31m---------------------------------------------------------------------------\u001b[0m",
      "\u001b[0;31mImportError\u001b[0m                               Traceback (most recent call last)",
      "\u001b[0;32m<ipython-input-17-5541808ad850>\u001b[0m in \u001b[0;36m<module>\u001b[0;34m()\u001b[0m\n\u001b[0;32m----> 1\u001b[0;31m \u001b[0;32mfrom\u001b[0m \u001b[0msklearn\u001b[0m\u001b[0;34m.\u001b[0m\u001b[0mmetrics\u001b[0m \u001b[0;32mimport\u001b[0m \u001b[0mclassfication_report\u001b[0m\u001b[0;34m\u001b[0m\u001b[0;34m\u001b[0m\u001b[0m\n\u001b[0m\u001b[1;32m      2\u001b[0m \u001b[0mprint\u001b[0m\u001b[0;34m(\u001b[0m\u001b[0mclassfication_report\u001b[0m\u001b[0;34m(\u001b[0m\u001b[0mlist\u001b[0m\u001b[0;34m(\u001b[0m\u001b[0mdf\u001b[0m\u001b[0;34m[\u001b[0m\u001b[0;34m'label'\u001b[0m\u001b[0;34m]\u001b[0m\u001b[0;34m[\u001b[0m\u001b[0;34m-\u001b[0m\u001b[0;36m26814\u001b[0m\u001b[0;34m:\u001b[0m\u001b[0;34m]\u001b[0m\u001b[0;34m)\u001b[0m\u001b[0;34m,\u001b[0m \u001b[0mtest\u001b[0m\u001b[0;34m[\u001b[0m\u001b[0;36m1\u001b[0m\u001b[0;34m]\u001b[0m\u001b[0;34m.\u001b[0m\u001b[0mflatten\u001b[0m\u001b[0;34m(\u001b[0m\u001b[0;34m)\u001b[0m\u001b[0;34m)\u001b[0m\u001b[0;34m)\u001b[0m\u001b[0;34m\u001b[0m\u001b[0;34m\u001b[0m\u001b[0m\n",
      "\u001b[0;31mImportError\u001b[0m: cannot import name 'classfication_report' from 'sklearn.metrics' (/usr/local/lib/python3.7/dist-packages/sklearn/metrics/__init__.py)",
      "",
      "\u001b[0;31m---------------------------------------------------------------------------\u001b[0;32m\nNOTE: If your import is failing due to a missing package, you can\nmanually install dependencies using either !pip or !apt.\n\nTo view examples of installing some common dependencies, click the\n\"Open Examples\" button below.\n\u001b[0;31m---------------------------------------------------------------------------\u001b[0m\n"
     ]
    }
   ],
   "source": [
    "from sklearn.metrics import classfication_report\n",
    "print(classfication_report(list(df['label'][-26814:]), test[1].flatten()))"
   ]
  },
  {
   "cell_type": "code",
   "execution_count": null,
   "id": "qNeHy0PuAMD2",
   "metadata": {
    "id": "qNeHy0PuAMD2"
   },
   "outputs": [],
   "source": [
    "from sklearn.metrics import classification_report"
   ]
  },
  {
   "cell_type": "code",
   "execution_count": null,
   "id": "fqoYqGXwJUuE",
   "metadata": {
    "colab": {
     "base_uri": "https://localhost:8080/",
     "height": 174
    },
    "executionInfo": {
     "elapsed": 24,
     "status": "error",
     "timestamp": 1645067720258,
     "user": {
      "displayName": "ji yeon KIM",
      "photoUrl": "https://lh3.googleusercontent.com/a/default-user=s64",
      "userId": "02674522773313632904"
     },
     "user_tz": -540
    },
    "id": "fqoYqGXwJUuE",
    "outputId": "b03567c5-34ef-45f5-de7c-5dce0bb012fd"
   },
   "outputs": [
    {
     "ename": "NameError",
     "evalue": "ignored",
     "output_type": "error",
     "traceback": [
      "\u001b[0;31m---------------------------------------------------------------------------\u001b[0m",
      "\u001b[0;31mNameError\u001b[0m                                 Traceback (most recent call last)",
      "\u001b[0;32m<ipython-input-18-d0a27f8cd302>\u001b[0m in \u001b[0;36m<module>\u001b[0;34m()\u001b[0m\n\u001b[0;32m----> 1\u001b[0;31m \u001b[0mprint\u001b[0m\u001b[0;34m(\u001b[0m\u001b[0mclassification_report\u001b[0m\u001b[0;34m(\u001b[0m\u001b[0mlist\u001b[0m\u001b[0;34m(\u001b[0m\u001b[0mdf\u001b[0m\u001b[0;34m[\u001b[0m\u001b[0;34m'label'\u001b[0m\u001b[0;34m]\u001b[0m\u001b[0;34m[\u001b[0m\u001b[0;34m-\u001b[0m\u001b[0;36m26814\u001b[0m\u001b[0;34m:\u001b[0m\u001b[0;34m]\u001b[0m\u001b[0;34m)\u001b[0m\u001b[0;34m,\u001b[0m \u001b[0my_pred\u001b[0m\u001b[0;34m)\u001b[0m\u001b[0;34m)\u001b[0m\u001b[0;34m\u001b[0m\u001b[0;34m\u001b[0m\u001b[0m\n\u001b[0m",
      "\u001b[0;31mNameError\u001b[0m: name 'y_pred' is not defined"
     ]
    }
   ],
   "source": [
    "print(classification_report(list(df['label'][-26814:]), y_pred))"
   ]
  },
  {
   "cell_type": "code",
   "execution_count": null,
   "id": "kTFx_7aPJcJ-",
   "metadata": {
    "id": "kTFx_7aPJcJ-"
   },
   "outputs": [],
   "source": [
    "y_true=list(map(lambda x:1 if x>0.5 else 0, list(df['label'][-26814:])))"
   ]
  },
  {
   "cell_type": "code",
   "execution_count": null,
   "id": "MEjcZZkTJsnU",
   "metadata": {
    "colab": {
     "base_uri": "https://localhost:8080/",
     "height": 423
    },
    "executionInfo": {
     "elapsed": 441,
     "status": "ok",
     "timestamp": 1645980571499,
     "user": {
      "displayName": "ji yeon KIM",
      "photoUrl": "https://lh3.googleusercontent.com/a/default-user=s64",
      "userId": "02674522773313632904"
     },
     "user_tz": -540
    },
    "id": "MEjcZZkTJsnU",
    "outputId": "c127e190-90cb-4435-9c30-b1b038df375d"
   },
   "outputs": [
    {
     "data": {
      "text/html": [
       "\n",
       "  <div id=\"df-7d3b0708-a9b9-4ce6-9c22-27308825530d\">\n",
       "    <div class=\"colab-df-container\">\n",
       "      <div>\n",
       "<style scoped>\n",
       "    .dataframe tbody tr th:only-of-type {\n",
       "        vertical-align: middle;\n",
       "    }\n",
       "\n",
       "    .dataframe tbody tr th {\n",
       "        vertical-align: top;\n",
       "    }\n",
       "\n",
       "    .dataframe thead th {\n",
       "        text-align: right;\n",
       "    }\n",
       "</style>\n",
       "<table border=\"1\" class=\"dataframe\">\n",
       "  <thead>\n",
       "    <tr style=\"text-align: right;\">\n",
       "      <th></th>\n",
       "      <th>Unnamed: 0</th>\n",
       "      <th>left_image</th>\n",
       "      <th>right_image</th>\n",
       "      <th>choice</th>\n",
       "      <th>label</th>\n",
       "    </tr>\n",
       "  </thead>\n",
       "  <tbody>\n",
       "    <tr>\n",
       "      <th>0</th>\n",
       "      <td>1</td>\n",
       "      <td>110993404404.jpg</td>\n",
       "      <td>110987798803.jpg</td>\n",
       "      <td>right</td>\n",
       "      <td>1</td>\n",
       "    </tr>\n",
       "    <tr>\n",
       "      <th>1</th>\n",
       "      <td>1</td>\n",
       "      <td>111028531201.jpg</td>\n",
       "      <td>111030663404.jpg</td>\n",
       "      <td>right</td>\n",
       "      <td>1</td>\n",
       "    </tr>\n",
       "    <tr>\n",
       "      <th>2</th>\n",
       "      <td>2</td>\n",
       "      <td>110999572203.jpg</td>\n",
       "      <td>110992256704.jpg</td>\n",
       "      <td>right</td>\n",
       "      <td>1</td>\n",
       "    </tr>\n",
       "    <tr>\n",
       "      <th>3</th>\n",
       "      <td>3</td>\n",
       "      <td>110992365404.jpg</td>\n",
       "      <td>111030727604.jpg</td>\n",
       "      <td>left</td>\n",
       "      <td>0</td>\n",
       "    </tr>\n",
       "    <tr>\n",
       "      <th>4</th>\n",
       "      <td>4</td>\n",
       "      <td>111030688804.jpg</td>\n",
       "      <td>111032970202.jpg</td>\n",
       "      <td>right</td>\n",
       "      <td>1</td>\n",
       "    </tr>\n",
       "    <tr>\n",
       "      <th>...</th>\n",
       "      <td>...</td>\n",
       "      <td>...</td>\n",
       "      <td>...</td>\n",
       "      <td>...</td>\n",
       "      <td>...</td>\n",
       "    </tr>\n",
       "    <tr>\n",
       "      <th>134064</th>\n",
       "      <td>140630</td>\n",
       "      <td>111035028502.jpg</td>\n",
       "      <td>111029634702.jpg</td>\n",
       "      <td>left</td>\n",
       "      <td>0</td>\n",
       "    </tr>\n",
       "    <tr>\n",
       "      <th>134065</th>\n",
       "      <td>140631</td>\n",
       "      <td>111013197401.jpg</td>\n",
       "      <td>110984356003.jpg</td>\n",
       "      <td>left</td>\n",
       "      <td>0</td>\n",
       "    </tr>\n",
       "    <tr>\n",
       "      <th>134066</th>\n",
       "      <td>140632</td>\n",
       "      <td>111030954003.jpg</td>\n",
       "      <td>110987392204.jpg</td>\n",
       "      <td>right</td>\n",
       "      <td>1</td>\n",
       "    </tr>\n",
       "    <tr>\n",
       "      <th>134067</th>\n",
       "      <td>140633</td>\n",
       "      <td>110987909603.jpg</td>\n",
       "      <td>111012168202.jpg</td>\n",
       "      <td>right</td>\n",
       "      <td>1</td>\n",
       "    </tr>\n",
       "    <tr>\n",
       "      <th>134068</th>\n",
       "      <td>140634</td>\n",
       "      <td>111026286704.jpg</td>\n",
       "      <td>110998742504.jpg</td>\n",
       "      <td>right</td>\n",
       "      <td>1</td>\n",
       "    </tr>\n",
       "  </tbody>\n",
       "</table>\n",
       "<p>134069 rows × 5 columns</p>\n",
       "</div>\n",
       "      <button class=\"colab-df-convert\" onclick=\"convertToInteractive('df-7d3b0708-a9b9-4ce6-9c22-27308825530d')\"\n",
       "              title=\"Convert this dataframe to an interactive table.\"\n",
       "              style=\"display:none;\">\n",
       "        \n",
       "  <svg xmlns=\"http://www.w3.org/2000/svg\" height=\"24px\"viewBox=\"0 0 24 24\"\n",
       "       width=\"24px\">\n",
       "    <path d=\"M0 0h24v24H0V0z\" fill=\"none\"/>\n",
       "    <path d=\"M18.56 5.44l.94 2.06.94-2.06 2.06-.94-2.06-.94-.94-2.06-.94 2.06-2.06.94zm-11 1L8.5 8.5l.94-2.06 2.06-.94-2.06-.94L8.5 2.5l-.94 2.06-2.06.94zm10 10l.94 2.06.94-2.06 2.06-.94-2.06-.94-.94-2.06-.94 2.06-2.06.94z\"/><path d=\"M17.41 7.96l-1.37-1.37c-.4-.4-.92-.59-1.43-.59-.52 0-1.04.2-1.43.59L10.3 9.45l-7.72 7.72c-.78.78-.78 2.05 0 2.83L4 21.41c.39.39.9.59 1.41.59.51 0 1.02-.2 1.41-.59l7.78-7.78 2.81-2.81c.8-.78.8-2.07 0-2.86zM5.41 20L4 18.59l7.72-7.72 1.47 1.35L5.41 20z\"/>\n",
       "  </svg>\n",
       "      </button>\n",
       "      \n",
       "  <style>\n",
       "    .colab-df-container {\n",
       "      display:flex;\n",
       "      flex-wrap:wrap;\n",
       "      gap: 12px;\n",
       "    }\n",
       "\n",
       "    .colab-df-convert {\n",
       "      background-color: #E8F0FE;\n",
       "      border: none;\n",
       "      border-radius: 50%;\n",
       "      cursor: pointer;\n",
       "      display: none;\n",
       "      fill: #1967D2;\n",
       "      height: 32px;\n",
       "      padding: 0 0 0 0;\n",
       "      width: 32px;\n",
       "    }\n",
       "\n",
       "    .colab-df-convert:hover {\n",
       "      background-color: #E2EBFA;\n",
       "      box-shadow: 0px 1px 2px rgba(60, 64, 67, 0.3), 0px 1px 3px 1px rgba(60, 64, 67, 0.15);\n",
       "      fill: #174EA6;\n",
       "    }\n",
       "\n",
       "    [theme=dark] .colab-df-convert {\n",
       "      background-color: #3B4455;\n",
       "      fill: #D2E3FC;\n",
       "    }\n",
       "\n",
       "    [theme=dark] .colab-df-convert:hover {\n",
       "      background-color: #434B5C;\n",
       "      box-shadow: 0px 1px 3px 1px rgba(0, 0, 0, 0.15);\n",
       "      filter: drop-shadow(0px 1px 2px rgba(0, 0, 0, 0.3));\n",
       "      fill: #FFFFFF;\n",
       "    }\n",
       "  </style>\n",
       "\n",
       "      <script>\n",
       "        const buttonEl =\n",
       "          document.querySelector('#df-7d3b0708-a9b9-4ce6-9c22-27308825530d button.colab-df-convert');\n",
       "        buttonEl.style.display =\n",
       "          google.colab.kernel.accessAllowed ? 'block' : 'none';\n",
       "\n",
       "        async function convertToInteractive(key) {\n",
       "          const element = document.querySelector('#df-7d3b0708-a9b9-4ce6-9c22-27308825530d');\n",
       "          const dataTable =\n",
       "            await google.colab.kernel.invokeFunction('convertToInteractive',\n",
       "                                                     [key], {});\n",
       "          if (!dataTable) return;\n",
       "\n",
       "          const docLinkHtml = 'Like what you see? Visit the ' +\n",
       "            '<a target=\"_blank\" href=https://colab.research.google.com/notebooks/data_table.ipynb>data table notebook</a>'\n",
       "            + ' to learn more about interactive tables.';\n",
       "          element.innerHTML = '';\n",
       "          dataTable['output_type'] = 'display_data';\n",
       "          await google.colab.output.renderOutput(dataTable, element);\n",
       "          const docLink = document.createElement('div');\n",
       "          docLink.innerHTML = docLinkHtml;\n",
       "          element.appendChild(docLink);\n",
       "        }\n",
       "      </script>\n",
       "    </div>\n",
       "  </div>\n",
       "  "
      ],
      "text/plain": [
       "        Unnamed: 0        left_image       right_image choice  label\n",
       "0                1  110993404404.jpg  110987798803.jpg  right      1\n",
       "1                1  111028531201.jpg  111030663404.jpg  right      1\n",
       "2                2  110999572203.jpg  110992256704.jpg  right      1\n",
       "3                3  110992365404.jpg  111030727604.jpg   left      0\n",
       "4                4  111030688804.jpg  111032970202.jpg  right      1\n",
       "...            ...               ...               ...    ...    ...\n",
       "134064      140630  111035028502.jpg  111029634702.jpg   left      0\n",
       "134065      140631  111013197401.jpg  110984356003.jpg   left      0\n",
       "134066      140632  111030954003.jpg  110987392204.jpg  right      1\n",
       "134067      140633  110987909603.jpg  111012168202.jpg  right      1\n",
       "134068      140634  111026286704.jpg  110998742504.jpg  right      1\n",
       "\n",
       "[134069 rows x 5 columns]"
      ]
     },
     "execution_count": 113,
     "metadata": {},
     "output_type": "execute_result"
    }
   ],
   "source": [
    "p = Image.open('/content/drive/Othercomputers/MyNotebook/gbg_w300_h-1/'+class_dirs[i])\n",
    "ax.imshow(p)"
   ]
  },
  {
   "cell_type": "code",
   "execution_count": null,
   "id": "BLu9gWlVCSvn",
   "metadata": {
    "colab": {
     "base_uri": "https://localhost:8080/",
     "height": 35
    },
    "executionInfo": {
     "elapsed": 391,
     "status": "ok",
     "timestamp": 1646198027944,
     "user": {
      "displayName": "ji yeon KIM",
      "photoUrl": "https://lh3.googleusercontent.com/a/default-user=s64",
      "userId": "02674522773313632904"
     },
     "user_tz": -540
    },
    "id": "BLu9gWlVCSvn",
    "outputId": "86604277-1d9f-48b5-c812-61f9c37fc862"
   },
   "outputs": [
    {
     "data": {
      "application/vnd.google.colaboratory.intrinsic+json": {
       "type": "string"
      },
      "text/plain": [
       "'111012968504.jpg'"
      ]
     },
     "execution_count": 81,
     "metadata": {},
     "output_type": "execute_result"
    }
   ],
   "source": [
    "score_df940.sort_values(by='score', ascending=False)['image'][20]"
   ]
  },
  {
   "cell_type": "code",
   "execution_count": null,
   "id": "oWh1gO1LFpul",
   "metadata": {
    "colab": {
     "base_uri": "https://localhost:8080/",
     "height": 269
    },
    "executionInfo": {
     "elapsed": 1847,
     "status": "ok",
     "timestamp": 1646198060869,
     "user": {
      "displayName": "ji yeon KIM",
      "photoUrl": "https://lh3.googleusercontent.com/a/default-user=s64",
      "userId": "02674522773313632904"
     },
     "user_tz": -540
    },
    "id": "oWh1gO1LFpul",
    "outputId": "d4ca6059-9d66-4f4c-918b-1ffdeb78f16d"
   },
   "outputs": [
    {
     "data": {
      "image/png": "[encoded data removed]",
      "text/plain": [
       "<Figure size 432x288 with 1 Axes>"
      ]
     },
     "metadata": {},
     "output_type": "display_data"
    }
   ],
   "source": [
    "import matplotlib.image as img\n",
    "\n",
    "image = img.imread(score_df940.sort_values(by='score', ascending=False)['image'][35])\n",
    "plt.imshow(image)\n",
    "plt.show()"
   ]
  },
  {
   "cell_type": "code",
   "execution_count": null,
   "id": "aM0Dmt1oDleU",
   "metadata": {
    "colab": {
     "base_uri": "https://localhost:8080/",
     "height": 423
    },
    "executionInfo": {
     "elapsed": 401,
     "status": "ok",
     "timestamp": 1646198152855,
     "user": {
      "displayName": "ji yeon KIM",
      "photoUrl": "https://lh3.googleusercontent.com/a/default-user=s64",
      "userId": "02674522773313632904"
     },
     "user_tz": -540
    },
    "id": "aM0Dmt1oDleU",
    "outputId": "e20a3379-760e-4ad5-f133-ba88f198339d"
   },
   "outputs": [
    {
     "data": {
      "text/html": [
       "\n",
       "  <div id=\"df-e7277d0b-ed31-43a5-8435-7692a737ac65\">\n",
       "    <div class=\"colab-df-container\">\n",
       "      <div>\n",
       "<style scoped>\n",
       "    .dataframe tbody tr th:only-of-type {\n",
       "        vertical-align: middle;\n",
       "    }\n",
       "\n",
       "    .dataframe tbody tr th {\n",
       "        vertical-align: top;\n",
       "    }\n",
       "\n",
       "    .dataframe thead th {\n",
       "        text-align: right;\n",
       "    }\n",
       "</style>\n",
       "<table border=\"1\" class=\"dataframe\">\n",
       "  <thead>\n",
       "    <tr style=\"text-align: right;\">\n",
       "      <th></th>\n",
       "      <th>image</th>\n",
       "      <th>score</th>\n",
       "    </tr>\n",
       "  </thead>\n",
       "  <tbody>\n",
       "    <tr>\n",
       "      <th>461</th>\n",
       "      <td>111040643902.jpg</td>\n",
       "      <td>4.187151</td>\n",
       "    </tr>\n",
       "    <tr>\n",
       "      <th>122</th>\n",
       "      <td>110990550402.jpg</td>\n",
       "      <td>3.900252</td>\n",
       "    </tr>\n",
       "    <tr>\n",
       "      <th>61</th>\n",
       "      <td>111031152304.jpg</td>\n",
       "      <td>3.205871</td>\n",
       "    </tr>\n",
       "    <tr>\n",
       "      <th>136</th>\n",
       "      <td>111013558302.jpg</td>\n",
       "      <td>3.169669</td>\n",
       "    </tr>\n",
       "    <tr>\n",
       "      <th>54</th>\n",
       "      <td>110982884702.jpg</td>\n",
       "      <td>3.157456</td>\n",
       "    </tr>\n",
       "    <tr>\n",
       "      <th>...</th>\n",
       "      <td>...</td>\n",
       "      <td>...</td>\n",
       "    </tr>\n",
       "    <tr>\n",
       "      <th>230</th>\n",
       "      <td>110988120104.jpg</td>\n",
       "      <td>-2.404147</td>\n",
       "    </tr>\n",
       "    <tr>\n",
       "      <th>489</th>\n",
       "      <td>111002944801.jpg</td>\n",
       "      <td>-2.407526</td>\n",
       "    </tr>\n",
       "    <tr>\n",
       "      <th>793</th>\n",
       "      <td>111017077903.jpg</td>\n",
       "      <td>-2.705365</td>\n",
       "    </tr>\n",
       "    <tr>\n",
       "      <th>145</th>\n",
       "      <td>110973345304.jpg</td>\n",
       "      <td>-2.959976</td>\n",
       "    </tr>\n",
       "    <tr>\n",
       "      <th>815</th>\n",
       "      <td>110988208804.jpg</td>\n",
       "      <td>-3.086008</td>\n",
       "    </tr>\n",
       "  </tbody>\n",
       "</table>\n",
       "<p>940 rows × 2 columns</p>\n",
       "</div>\n",
       "      <button class=\"colab-df-convert\" onclick=\"convertToInteractive('df-e7277d0b-ed31-43a5-8435-7692a737ac65')\"\n",
       "              title=\"Convert this dataframe to an interactive table.\"\n",
       "              style=\"display:none;\">\n",
       "        \n",
       "  <svg xmlns=\"http://www.w3.org/2000/svg\" height=\"24px\"viewBox=\"0 0 24 24\"\n",
       "       width=\"24px\">\n",
       "    <path d=\"M0 0h24v24H0V0z\" fill=\"none\"/>\n",
       "    <path d=\"M18.56 5.44l.94 2.06.94-2.06 2.06-.94-2.06-.94-.94-2.06-.94 2.06-2.06.94zm-11 1L8.5 8.5l.94-2.06 2.06-.94-2.06-.94L8.5 2.5l-.94 2.06-2.06.94zm10 10l.94 2.06.94-2.06 2.06-.94-2.06-.94-.94-2.06-.94 2.06-2.06.94z\"/><path d=\"M17.41 7.96l-1.37-1.37c-.4-.4-.92-.59-1.43-.59-.52 0-1.04.2-1.43.59L10.3 9.45l-7.72 7.72c-.78.78-.78 2.05 0 2.83L4 21.41c.39.39.9.59 1.41.59.51 0 1.02-.2 1.41-.59l7.78-7.78 2.81-2.81c.8-.78.8-2.07 0-2.86zM5.41 20L4 18.59l7.72-7.72 1.47 1.35L5.41 20z\"/>\n",
       "  </svg>\n",
       "      </button>\n",
       "      \n",
       "  <style>\n",
       "    .colab-df-container {\n",
       "      display:flex;\n",
       "      flex-wrap:wrap;\n",
       "      gap: 12px;\n",
       "    }\n",
       "\n",
       "    .colab-df-convert {\n",
       "      background-color: #E8F0FE;\n",
       "      border: none;\n",
       "      border-radius: 50%;\n",
       "      cursor: pointer;\n",
       "      display: none;\n",
       "      fill: #1967D2;\n",
       "      height: 32px;\n",
       "      padding: 0 0 0 0;\n",
       "      width: 32px;\n",
       "    }\n",
       "\n",
       "    .colab-df-convert:hover {\n",
       "      background-color: #E2EBFA;\n",
       "      box-shadow: 0px 1px 2px rgba(60, 64, 67, 0.3), 0px 1px 3px 1px rgba(60, 64, 67, 0.15);\n",
       "      fill: #174EA6;\n",
       "    }\n",
       "\n",
       "    [theme=dark] .colab-df-convert {\n",
       "      background-color: #3B4455;\n",
       "      fill: #D2E3FC;\n",
       "    }\n",
       "\n",
       "    [theme=dark] .colab-df-convert:hover {\n",
       "      background-color: #434B5C;\n",
       "      box-shadow: 0px 1px 3px 1px rgba(0, 0, 0, 0.15);\n",
       "      filter: drop-shadow(0px 1px 2px rgba(0, 0, 0, 0.3));\n",
       "      fill: #FFFFFF;\n",
       "    }\n",
       "  </style>\n",
       "\n",
       "      <script>\n",
       "        const buttonEl =\n",
       "          document.querySelector('#df-e7277d0b-ed31-43a5-8435-7692a737ac65 button.colab-df-convert');\n",
       "        buttonEl.style.display =\n",
       "          google.colab.kernel.accessAllowed ? 'block' : 'none';\n",
       "\n",
       "        async function convertToInteractive(key) {\n",
       "          const element = document.querySelector('#df-e7277d0b-ed31-43a5-8435-7692a737ac65');\n",
       "          const dataTable =\n",
       "            await google.colab.kernel.invokeFunction('convertToInteractive',\n",
       "                                                     [key], {});\n",
       "          if (!dataTable) return;\n",
       "\n",
       "          const docLinkHtml = 'Like what you see? Visit the ' +\n",
       "            '<a target=\"_blank\" href=https://colab.research.google.com/notebooks/data_table.ipynb>data table notebook</a>'\n",
       "            + ' to learn more about interactive tables.';\n",
       "          element.innerHTML = '';\n",
       "          dataTable['output_type'] = 'display_data';\n",
       "          await google.colab.output.renderOutput(dataTable, element);\n",
       "          const docLink = document.createElement('div');\n",
       "          docLink.innerHTML = docLinkHtml;\n",
       "          element.appendChild(docLink);\n",
       "        }\n",
       "      </script>\n",
       "    </div>\n",
       "  </div>\n",
       "  "
      ],
      "text/plain": [
       "                image     score\n",
       "461  111040643902.jpg  4.187151\n",
       "122  110990550402.jpg  3.900252\n",
       "61   111031152304.jpg  3.205871\n",
       "136  111013558302.jpg  3.169669\n",
       "54   110982884702.jpg  3.157456\n",
       "..                ...       ...\n",
       "230  110988120104.jpg -2.404147\n",
       "489  111002944801.jpg -2.407526\n",
       "793  111017077903.jpg -2.705365\n",
       "145  110973345304.jpg -2.959976\n",
       "815  110988208804.jpg -3.086008\n",
       "\n",
       "[940 rows x 2 columns]"
      ]
     },
     "execution_count": 94,
     "metadata": {},
     "output_type": "execute_result"
    }
   ],
   "source": [
    "score_df940.sort_values(by='score', ascending=False)"
   ]
  },
  {
   "cell_type": "code",
   "execution_count": null,
   "id": "ncIeCtriGdBW",
   "metadata": {
    "colab": {
     "base_uri": "https://localhost:8080/",
     "height": 269
    },
    "executionInfo": {
     "elapsed": 1110,
     "status": "ok",
     "timestamp": 1646198327176,
     "user": {
      "displayName": "ji yeon KIM",
      "photoUrl": "https://lh3.googleusercontent.com/a/default-user=s64",
      "userId": "02674522773313632904"
     },
     "user_tz": -540
    },
    "id": "ncIeCtriGdBW",
    "outputId": "fe39c045-bad1-424e-db5b-9eae64819152"
   },
   "outputs": [
    {
     "data": {
      "image/png": "[encoded data removed]",
      "text/plain": [
       "<Figure size 432x288 with 1 Axes>"
      ]
     },
     "metadata": {},
     "output_type": "display_data"
    }
   ],
   "source": [
    "import matplotlib.image as img\n",
    "\n",
    "image = img.imread('110982884702.jpg')\n",
    "plt.imshow(image)\n",
    "plt.show()"
   ]
  },
  {
   "cell_type": "markdown",
   "id": "e-Atbpq7ajs7",
   "metadata": {
    "id": "e-Atbpq7ajs7"
   },
   "source": [
    "<style>\n",
    "    span { color: #aba; }\n",
    "</style>\n",
    "## <span style=\"color:#cba\"> VGG16 based RSS-CNN + Activation Map(2109016 회의준비)\n",
    "---"
   ]
  },
  {
   "cell_type": "code",
   "execution_count": null,
   "id": "ae8e7680-be06-4a0c-a14c-dec48c2cc06c",
   "metadata": {
    "colab": {
     "base_uri": "https://localhost:8080/"
    },
    "executionInfo": {
     "elapsed": 1943,
     "status": "ok",
     "timestamp": 1644995116147,
     "user": {
      "displayName": "ji yeon KIM",
      "photoUrl": "https://lh3.googleusercontent.com/a/default-user=s64",
      "userId": "02674522773313632904"
     },
     "user_tz": -540
    },
    "id": "ae8e7680-be06-4a0c-a14c-dec48c2cc06c",
    "outputId": "a163591c-95d9-4061-a51b-73a058443971"
   },
   "outputs": [
    {
     "name": "stdout",
     "output_type": "stream",
     "text": [
      "Downloading data from https://storage.googleapis.com/tensorflow/keras-applications/vgg16/vgg16_weights_tf_dim_ordering_tf_kernels_notop.h5\n",
      "58892288/58889256 [==============================] - 0s 0us/step\n",
      "58900480/58889256 [==============================] - 0s 0us/step\n",
      "WARNING:tensorflow:Model was constructed with shape (None, 224, 224, 3) for input KerasTensor(type_spec=TensorSpec(shape=(None, 224, 224, 3), dtype=tf.float32, name='input_1'), name='input_1', description=\"created by layer 'input_1'\"), but it was called on an input with incompatible shape (None, 128, 128, 3).\n",
      "WARNING:tensorflow:Model was constructed with shape (None, 224, 224, 3) for input KerasTensor(type_spec=TensorSpec(shape=(None, 224, 224, 3), dtype=tf.float32, name='input_1'), name='input_1', description=\"created by layer 'input_1'\"), but it was called on an input with incompatible shape (None, 128, 128, 3).\n"
     ]
    }
   ],
   "source": [
    "# input_shape = (4, 28, 28, 3)\n",
    "input_dim = (128, 128, 3)\n",
    "feature_extraction_network = feature_extraction_network()\n",
    "model, score_model = build_model(input_dim, feature_extraction_network)\n",
    "#model.summary()\n",
    "#plot_model(model)"
   ]
  },
  {
   "cell_type": "code",
   "execution_count": null,
   "id": "15bab652-067b-4925-b59b-31bee93b50f0",
   "metadata": {
    "id": "15bab652-067b-4925-b59b-31bee93b50f0",
    "outputId": "231b523d-711a-49d2-d85d-daee431a60d5"
   },
   "outputs": [
    {
     "data": {
      "text/plain": [
       "array([[0.8468166]], dtype=float32)"
      ]
     },
     "execution_count": 159,
     "metadata": {},
     "output_type": "execute_result"
    }
   ],
   "source": [
    "score_model.predict(feature_extraction_network.predict(np.array([left])))"
   ]
  },
  {
   "cell_type": "code",
   "execution_count": null,
   "id": "5567384a-a723-4290-8c2a-818fdfe73bf0",
   "metadata": {
    "id": "5567384a-a723-4290-8c2a-818fdfe73bf0",
    "outputId": "66eb9fbb-ec53-4f2f-a27c-35dbb5fae313"
   },
   "outputs": [
    {
     "data": {
      "text/plain": [
       "array([[1.1998664]], dtype=float32)"
      ]
     },
     "execution_count": 160,
     "metadata": {},
     "output_type": "execute_result"
    }
   ],
   "source": [
    "score_model.predict(feature_extraction_network.predict(np.array([right])))"
   ]
  },
  {
   "cell_type": "code",
   "execution_count": null,
   "id": "68aa29f3-ba08-49af-846e-3a4a3ce492e9",
   "metadata": {
    "id": "68aa29f3-ba08-49af-846e-3a4a3ce492e9",
    "outputId": "f7342711-1be9-4e8f-b88f-04f63f01906c"
   },
   "outputs": [
    {
     "name": "stdout",
     "output_type": "stream",
     "text": [
      "Model: \"score\"\n",
      "_________________________________________________________________\n",
      "Layer (type)                 Output Shape              Param #   \n",
      "=================================================================\n",
      "global_average_pooling2d_10  (None, 512)               0         \n",
      "_________________________________________________________________\n",
      "dense_10 (Dense)             (None, 1)                 513       \n",
      "=================================================================\n",
      "Total params: 513\n",
      "Trainable params: 513\n",
      "Non-trainable params: 0\n",
      "_________________________________________________________________\n"
     ]
    }
   ],
   "source": [
    "score_model.summary()"
   ]
  },
  {
   "cell_type": "code",
   "execution_count": null,
   "id": "d75a57db-ec90-4c98-9c4f-5dd7b3e82248",
   "metadata": {
    "id": "d75a57db-ec90-4c98-9c4f-5dd7b3e82248",
    "outputId": "cf5ada18-79ee-48d5-b283-ba93bfcb354c"
   },
   "outputs": [
    {
     "data": {
      "image/png": "[encoded data removed]",
      "text/plain": [
       "<Figure size 576x576 with 1 Axes>"
      ]
     },
     "metadata": {},
     "output_type": "display_data"
    }
   ],
   "source": [
    "cam_model1 = tf.keras.Model(inputs = feature_extraction_network.input, outputs=feature_extraction_network.layers[-1].output)\n",
    "cam_model2 = tf.keras.Model(inputs = score_model.input, outputs=(score_model.layers[-1].output))\n",
    "#cam_model.summary()\n",
    "\n",
    "gap_weights = score_model.layers[-1].get_weights()[0]\n",
    "gap_weights.shape\n",
    "\n",
    "def show_cam(image_value, features, results):\n",
    "    '''\n",
    "    Displays the class activation map of an image\n",
    "    Args:\n",
    "    image_value (tensor) -- preprocessed input image with size 224 x 224\n",
    "    features (array) -- features of the image, shape (1, 7, 7, 512)\n",
    "    results (array) -- output of the sigmoid layer\n",
    "    '''\n",
    "    features_for_img = features[0]\n",
    "    prediction = results[0]\n",
    "\n",
    "    class_activation_weigths = gap_weights[:, 0]\n",
    "    class_activation_features = sp.ndimage.zoom(features_for_img, (224/8, 224/8, 1), order=2)\n",
    "    cam_output = np.dot(class_activation_features, class_activation_weigths)\n",
    "    cam_output = tf.reshape(cam_output, (224,224))\n",
    "    # visualize the results\n",
    "    #print(f'sigmoid output: {results}')\n",
    "    #print(f\"prediction: {'dog' if tf.argmax(results[0]) else 'cat'}\")\n",
    "    plt.figure(figsize=(8,8))\n",
    "    plt.imshow(cam_output, cmap='jet', alpha=0.5)\n",
    "    plt.imshow(tf.squeeze(image_value), alpha=0.5)\n",
    "    plt.show()\n",
    "\n",
    "features = cam_model1.predict(np.array([left]))\n",
    "results = cam_model2.predict(features)\n",
    "show_cam(left, features, results)"
   ]
  },
  {
   "cell_type": "code",
   "execution_count": null,
   "id": "6ae9884f-28c2-4d92-9cb0-63cf7bace1f4",
   "metadata": {
    "id": "6ae9884f-28c2-4d92-9cb0-63cf7bace1f4",
    "outputId": "58db0d50-4056-49da-bd02-2d7e50e8f7a8"
   },
   "outputs": [
    {
     "name": "stdout",
     "output_type": "stream",
     "text": [
      "Model: \"sequential_3\"\n",
      "_________________________________________________________________\n",
      "Layer (type)                 Output Shape              Param #   \n",
      "=================================================================\n",
      "block1_conv1 (Conv2D)        (None, 128, 128, 64)      1792      \n",
      "_________________________________________________________________\n",
      "block1_conv2 (Conv2D)        (None, 128, 128, 64)      36928     \n",
      "_________________________________________________________________\n",
      "block1_pool (MaxPooling2D)   (None, 64, 64, 64)        0         \n",
      "_________________________________________________________________\n",
      "block2_conv1 (Conv2D)        (None, 64, 64, 128)       73856     \n",
      "_________________________________________________________________\n",
      "block2_conv2 (Conv2D)        (None, 64, 64, 128)       147584    \n",
      "_________________________________________________________________\n",
      "block2_pool (MaxPooling2D)   (None, 32, 32, 128)       0         \n",
      "_________________________________________________________________\n",
      "block3_conv1 (Conv2D)        (None, 32, 32, 256)       295168    \n",
      "_________________________________________________________________\n",
      "block3_conv2 (Conv2D)        (None, 32, 32, 256)       590080    \n",
      "_________________________________________________________________\n",
      "block3_conv3 (Conv2D)        (None, 32, 32, 256)       590080    \n",
      "_________________________________________________________________\n",
      "block3_pool (MaxPooling2D)   (None, 16, 16, 256)       0         \n",
      "_________________________________________________________________\n",
      "block4_conv1 (Conv2D)        (None, 16, 16, 512)       1180160   \n",
      "_________________________________________________________________\n",
      "block4_conv2 (Conv2D)        (None, 16, 16, 512)       2359808   \n",
      "_________________________________________________________________\n",
      "block4_conv3 (Conv2D)        (None, 16, 16, 512)       2359808   \n",
      "_________________________________________________________________\n",
      "block4_pool (MaxPooling2D)   (None, 8, 8, 512)         0         \n",
      "_________________________________________________________________\n",
      "block5_conv1 (Conv2D)        (None, 8, 8, 512)         2359808   \n",
      "_________________________________________________________________\n",
      "block5_conv2 (Conv2D)        (None, 8, 8, 512)         2359808   \n",
      "_________________________________________________________________\n",
      "block5_conv3 (Conv2D)        (None, 8, 8, 512)         2359808   \n",
      "=================================================================\n",
      "Total params: 14,714,688\n",
      "Trainable params: 0\n",
      "Non-trainable params: 14,714,688\n",
      "_________________________________________________________________\n"
     ]
    }
   ],
   "source": [
    "feature_extraction_network.summary()"
   ]
  }
 ],
 "metadata": {
  "accelerator": "GPU",
  "colab": {
   "background_execution": "on",
   "collapsed_sections": [
    "_AIAXO9yUVZ7",
    "e-Atbpq7ajs7"
   ],
   "machine_shape": "hm",
   "name": "siamese.ipynb",
   "provenance": []
  },
  "kernelspec": {
   "display_name": "Python 3 (ipykernel)",
   "language": "python",
   "name": "python3"
  },
  "language_info": {
   "codemirror_mode": {
    "name": "ipython",
    "version": 3
   },
   "file_extension": ".py",
   "mimetype": "text/x-python",
   "name": "python",
   "nbconvert_exporter": "python",
   "pygments_lexer": "ipython3",
   "version": "3.8.12"
  }
 },
 "nbformat": 4,
 "nbformat_minor": 5
}
